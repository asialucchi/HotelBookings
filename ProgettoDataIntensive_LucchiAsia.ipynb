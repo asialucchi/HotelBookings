{
 "cells": [
  {
   "cell_type": "markdown",
   "metadata": {},
   "source": [
    "# Predizione della cancellazione di una prenotazione\n",
    "**Programmazione di Applicazioni Data Intensive**  \n",
    "Laurea in Ingegneria e Scienze Informatiche  \n",
    "DISI - Università di Bologna, Cesena\n",
    "\n",
    "Asia Lucchi"
   ]
  },
  {
   "cell_type": "code",
   "execution_count": 562,
   "metadata": {},
   "outputs": [],
   "source": [
    "#installazioni\n",
    "#usando Anaconda:\n",
    "#%conda install tensorflow keras\n",
    "\n",
    "#altrimenti:\n",
    "#%pip install keras"
   ]
  },
  {
   "cell_type": "code",
   "execution_count": 563,
   "metadata": {},
   "outputs": [],
   "source": [
    "#setup librerie\n",
    "%matplotlib inline\n",
    "import numpy as np\n",
    "import pandas as pd\n",
    "import matplotlib.pyplot as plt\n",
    "import sklearn\n",
    "import tensorflow as tf\n",
    "import keras\n",
    "import warnings\n",
    "warnings.filterwarnings('ignore')"
   ]
  },
  {
   "cell_type": "markdown",
   "metadata": {},
   "source": [
    "## Descrizione del problema e comprensione dei dati\n",
    "- Il progetto ha come obiettivo di predirre se una **prenotazione in albergo verrà cancellata o meno** mediante l'utilizzo del Dataset _Hotel Booking Demand_ presente su Kaggle (https://www.kaggle.com/jessemostipak/hotel-booking-demand).\n",
    "- Nel Dataset sono presenti 119k istanze con le prenotazioni riguardanti soggiorni aventi data di arrivo compresa fra l'1 Luglio 2015 e il 31 Agosto 2017 in hotel portoghesi, ogni istanza è composta da 32 feature."
   ]
  },
  {
   "cell_type": "code",
   "execution_count": 564,
   "metadata": {},
   "outputs": [],
   "source": [
    "import os.path\n",
    "if not os.path.exists(\"hotel_bookings.csv\"):\n",
    "    from urllib.request import urlretrieve\n",
    "    urlretrieve(\"https://tinyurl.com/y7cw9z3f\", \"hotel_bookings.csv\")"
   ]
  },
  {
   "cell_type": "code",
   "execution_count": 565,
   "metadata": {},
   "outputs": [],
   "source": [
    "hbookings = pd.read_csv('hotel_bookings.csv')"
   ]
  },
  {
   "cell_type": "code",
   "execution_count": 566,
   "metadata": {},
   "outputs": [
    {
     "data": {
      "text/html": [
       "<div>\n",
       "<style scoped>\n",
       "    .dataframe tbody tr th:only-of-type {\n",
       "        vertical-align: middle;\n",
       "    }\n",
       "\n",
       "    .dataframe tbody tr th {\n",
       "        vertical-align: top;\n",
       "    }\n",
       "\n",
       "    .dataframe thead th {\n",
       "        text-align: right;\n",
       "    }\n",
       "</style>\n",
       "<table border=\"1\" class=\"dataframe\">\n",
       "  <thead>\n",
       "    <tr style=\"text-align: right;\">\n",
       "      <th></th>\n",
       "      <th>hotel</th>\n",
       "      <th>is_canceled</th>\n",
       "      <th>lead_time</th>\n",
       "      <th>arrival_date_year</th>\n",
       "      <th>arrival_date_month</th>\n",
       "      <th>arrival_date_week_number</th>\n",
       "      <th>arrival_date_day_of_month</th>\n",
       "      <th>stays_in_weekend_nights</th>\n",
       "      <th>stays_in_week_nights</th>\n",
       "      <th>adults</th>\n",
       "      <th>children</th>\n",
       "      <th>babies</th>\n",
       "      <th>meal</th>\n",
       "      <th>country</th>\n",
       "      <th>market_segment</th>\n",
       "      <th>distribution_channel</th>\n",
       "      <th>is_repeated_guest</th>\n",
       "      <th>previous_cancellations</th>\n",
       "      <th>previous_bookings_not_canceled</th>\n",
       "      <th>reserved_room_type</th>\n",
       "      <th>assigned_room_type</th>\n",
       "      <th>booking_changes</th>\n",
       "      <th>deposit_type</th>\n",
       "      <th>agent</th>\n",
       "      <th>company</th>\n",
       "      <th>days_in_waiting_list</th>\n",
       "      <th>customer_type</th>\n",
       "      <th>adr</th>\n",
       "      <th>required_car_parking_spaces</th>\n",
       "      <th>total_of_special_requests</th>\n",
       "      <th>reservation_status</th>\n",
       "      <th>reservation_status_date</th>\n",
       "    </tr>\n",
       "  </thead>\n",
       "  <tbody>\n",
       "    <tr>\n",
       "      <td>0</td>\n",
       "      <td>Resort Hotel</td>\n",
       "      <td>0</td>\n",
       "      <td>342</td>\n",
       "      <td>2015</td>\n",
       "      <td>July</td>\n",
       "      <td>27</td>\n",
       "      <td>1</td>\n",
       "      <td>0</td>\n",
       "      <td>0</td>\n",
       "      <td>2</td>\n",
       "      <td>0.0</td>\n",
       "      <td>0</td>\n",
       "      <td>BB</td>\n",
       "      <td>PRT</td>\n",
       "      <td>Direct</td>\n",
       "      <td>Direct</td>\n",
       "      <td>0</td>\n",
       "      <td>0</td>\n",
       "      <td>0</td>\n",
       "      <td>C</td>\n",
       "      <td>C</td>\n",
       "      <td>3</td>\n",
       "      <td>No Deposit</td>\n",
       "      <td>NaN</td>\n",
       "      <td>NaN</td>\n",
       "      <td>0</td>\n",
       "      <td>Transient</td>\n",
       "      <td>0.0</td>\n",
       "      <td>0</td>\n",
       "      <td>0</td>\n",
       "      <td>Check-Out</td>\n",
       "      <td>2015-07-01</td>\n",
       "    </tr>\n",
       "    <tr>\n",
       "      <td>1</td>\n",
       "      <td>Resort Hotel</td>\n",
       "      <td>0</td>\n",
       "      <td>737</td>\n",
       "      <td>2015</td>\n",
       "      <td>July</td>\n",
       "      <td>27</td>\n",
       "      <td>1</td>\n",
       "      <td>0</td>\n",
       "      <td>0</td>\n",
       "      <td>2</td>\n",
       "      <td>0.0</td>\n",
       "      <td>0</td>\n",
       "      <td>BB</td>\n",
       "      <td>PRT</td>\n",
       "      <td>Direct</td>\n",
       "      <td>Direct</td>\n",
       "      <td>0</td>\n",
       "      <td>0</td>\n",
       "      <td>0</td>\n",
       "      <td>C</td>\n",
       "      <td>C</td>\n",
       "      <td>4</td>\n",
       "      <td>No Deposit</td>\n",
       "      <td>NaN</td>\n",
       "      <td>NaN</td>\n",
       "      <td>0</td>\n",
       "      <td>Transient</td>\n",
       "      <td>0.0</td>\n",
       "      <td>0</td>\n",
       "      <td>0</td>\n",
       "      <td>Check-Out</td>\n",
       "      <td>2015-07-01</td>\n",
       "    </tr>\n",
       "    <tr>\n",
       "      <td>2</td>\n",
       "      <td>Resort Hotel</td>\n",
       "      <td>0</td>\n",
       "      <td>7</td>\n",
       "      <td>2015</td>\n",
       "      <td>July</td>\n",
       "      <td>27</td>\n",
       "      <td>1</td>\n",
       "      <td>0</td>\n",
       "      <td>1</td>\n",
       "      <td>1</td>\n",
       "      <td>0.0</td>\n",
       "      <td>0</td>\n",
       "      <td>BB</td>\n",
       "      <td>GBR</td>\n",
       "      <td>Direct</td>\n",
       "      <td>Direct</td>\n",
       "      <td>0</td>\n",
       "      <td>0</td>\n",
       "      <td>0</td>\n",
       "      <td>A</td>\n",
       "      <td>C</td>\n",
       "      <td>0</td>\n",
       "      <td>No Deposit</td>\n",
       "      <td>NaN</td>\n",
       "      <td>NaN</td>\n",
       "      <td>0</td>\n",
       "      <td>Transient</td>\n",
       "      <td>75.0</td>\n",
       "      <td>0</td>\n",
       "      <td>0</td>\n",
       "      <td>Check-Out</td>\n",
       "      <td>2015-07-02</td>\n",
       "    </tr>\n",
       "    <tr>\n",
       "      <td>3</td>\n",
       "      <td>Resort Hotel</td>\n",
       "      <td>0</td>\n",
       "      <td>13</td>\n",
       "      <td>2015</td>\n",
       "      <td>July</td>\n",
       "      <td>27</td>\n",
       "      <td>1</td>\n",
       "      <td>0</td>\n",
       "      <td>1</td>\n",
       "      <td>1</td>\n",
       "      <td>0.0</td>\n",
       "      <td>0</td>\n",
       "      <td>BB</td>\n",
       "      <td>GBR</td>\n",
       "      <td>Corporate</td>\n",
       "      <td>Corporate</td>\n",
       "      <td>0</td>\n",
       "      <td>0</td>\n",
       "      <td>0</td>\n",
       "      <td>A</td>\n",
       "      <td>A</td>\n",
       "      <td>0</td>\n",
       "      <td>No Deposit</td>\n",
       "      <td>304.0</td>\n",
       "      <td>NaN</td>\n",
       "      <td>0</td>\n",
       "      <td>Transient</td>\n",
       "      <td>75.0</td>\n",
       "      <td>0</td>\n",
       "      <td>0</td>\n",
       "      <td>Check-Out</td>\n",
       "      <td>2015-07-02</td>\n",
       "    </tr>\n",
       "    <tr>\n",
       "      <td>4</td>\n",
       "      <td>Resort Hotel</td>\n",
       "      <td>0</td>\n",
       "      <td>14</td>\n",
       "      <td>2015</td>\n",
       "      <td>July</td>\n",
       "      <td>27</td>\n",
       "      <td>1</td>\n",
       "      <td>0</td>\n",
       "      <td>2</td>\n",
       "      <td>2</td>\n",
       "      <td>0.0</td>\n",
       "      <td>0</td>\n",
       "      <td>BB</td>\n",
       "      <td>GBR</td>\n",
       "      <td>Online TA</td>\n",
       "      <td>TA/TO</td>\n",
       "      <td>0</td>\n",
       "      <td>0</td>\n",
       "      <td>0</td>\n",
       "      <td>A</td>\n",
       "      <td>A</td>\n",
       "      <td>0</td>\n",
       "      <td>No Deposit</td>\n",
       "      <td>240.0</td>\n",
       "      <td>NaN</td>\n",
       "      <td>0</td>\n",
       "      <td>Transient</td>\n",
       "      <td>98.0</td>\n",
       "      <td>0</td>\n",
       "      <td>1</td>\n",
       "      <td>Check-Out</td>\n",
       "      <td>2015-07-03</td>\n",
       "    </tr>\n",
       "  </tbody>\n",
       "</table>\n",
       "</div>"
      ],
      "text/plain": [
       "          hotel  is_canceled  lead_time  arrival_date_year arrival_date_month  \\\n",
       "0  Resort Hotel            0        342               2015               July   \n",
       "1  Resort Hotel            0        737               2015               July   \n",
       "2  Resort Hotel            0          7               2015               July   \n",
       "3  Resort Hotel            0         13               2015               July   \n",
       "4  Resort Hotel            0         14               2015               July   \n",
       "\n",
       "   arrival_date_week_number  arrival_date_day_of_month  \\\n",
       "0                        27                          1   \n",
       "1                        27                          1   \n",
       "2                        27                          1   \n",
       "3                        27                          1   \n",
       "4                        27                          1   \n",
       "\n",
       "   stays_in_weekend_nights  stays_in_week_nights  adults  children  babies  \\\n",
       "0                        0                     0       2       0.0       0   \n",
       "1                        0                     0       2       0.0       0   \n",
       "2                        0                     1       1       0.0       0   \n",
       "3                        0                     1       1       0.0       0   \n",
       "4                        0                     2       2       0.0       0   \n",
       "\n",
       "  meal country market_segment distribution_channel  is_repeated_guest  \\\n",
       "0   BB     PRT         Direct               Direct                  0   \n",
       "1   BB     PRT         Direct               Direct                  0   \n",
       "2   BB     GBR         Direct               Direct                  0   \n",
       "3   BB     GBR      Corporate            Corporate                  0   \n",
       "4   BB     GBR      Online TA                TA/TO                  0   \n",
       "\n",
       "   previous_cancellations  previous_bookings_not_canceled reserved_room_type  \\\n",
       "0                       0                               0                  C   \n",
       "1                       0                               0                  C   \n",
       "2                       0                               0                  A   \n",
       "3                       0                               0                  A   \n",
       "4                       0                               0                  A   \n",
       "\n",
       "  assigned_room_type  booking_changes deposit_type  agent  company  \\\n",
       "0                  C                3   No Deposit    NaN      NaN   \n",
       "1                  C                4   No Deposit    NaN      NaN   \n",
       "2                  C                0   No Deposit    NaN      NaN   \n",
       "3                  A                0   No Deposit  304.0      NaN   \n",
       "4                  A                0   No Deposit  240.0      NaN   \n",
       "\n",
       "   days_in_waiting_list customer_type   adr  required_car_parking_spaces  \\\n",
       "0                     0     Transient   0.0                            0   \n",
       "1                     0     Transient   0.0                            0   \n",
       "2                     0     Transient  75.0                            0   \n",
       "3                     0     Transient  75.0                            0   \n",
       "4                     0     Transient  98.0                            0   \n",
       "\n",
       "   total_of_special_requests reservation_status reservation_status_date  \n",
       "0                          0          Check-Out              2015-07-01  \n",
       "1                          0          Check-Out              2015-07-01  \n",
       "2                          0          Check-Out              2015-07-02  \n",
       "3                          0          Check-Out              2015-07-02  \n",
       "4                          1          Check-Out              2015-07-03  "
      ]
     },
     "execution_count": 566,
     "metadata": {},
     "output_type": "execute_result"
    }
   ],
   "source": [
    "hbookings.head(5)"
   ]
  },
  {
   "cell_type": "markdown",
   "metadata": {},
   "source": [
    "### Lista delle variabili\n",
    "\n",
    "- __hotel__: tipologia hotel, può essere resort o in città\n",
    "- __lead_time__: numero di giorni trascorsi fra la prenotazione e il giorno di arrivo in albergo\n",
    "- __arrival_date_year__: anno della data di arrivo in albergo\n",
    "- __arrival_date_month__: mese (January-December) della data di arrivo in albergo\n",
    "- __arrival_date_week_number__: numero della settimana dell'anno (1-52) della data di arrivo in albergo\n",
    "- __arrival_date_day__: giorno di arrivo nel mese (1-31) della data di arrivo in albergo\n",
    "- __stays_in_weekend_nights__: numero di notti della prenotazione che riguardano il weekend (sabato o domenica)\n",
    "- __stays_in_week_nights__: numero di notti della prenotazione che riguardano giorno feriali (lunedì - venerdì)\n",
    "- __adults__: numero di adulti\n",
    "- __children__: numero di bambini\n",
    "- __babies__: numero di bambini piccoli\n",
    "- __meals__: pasti compresi nella prenotazione\n",
    "    - BB (Bed&Breakfast): solamente la colazione\n",
    "    - HB (Half Board): colazione e cena\n",
    "    - SC (Self Catering): nessun pasto incluso, utensili e fornello a disposizione per cucinare\n",
    "    - FB (Full Board): colazione, pranzo e cena\n",
    "    - Undefined\n",
    "- __country__: nazione di provenienza del cliente\n",
    "- __market_segment__: 'gruppo' a cui appartiene il cliente che ha prenotato in base alla segmentazione del mercato\n",
    "    - Online TA: agenzia di viaggio online\n",
    "    - Offline TA/TO: agenzia di viaggio o tour operator\n",
    "    - Groups: gruppo di viaggio\n",
    "    - Corporate: azienda\n",
    "    - Direct: diretta da parte dell'interessato\n",
    "- __distribution_channel__: canale attraverso il quale è stata effettuata la prenotazione\n",
    "    - TA/TO: Tour Operator o agenzia viaggi\n",
    "    - Direct: direttametne dall'interessato contattando l'albergo\n",
    "    - Corporate: dall'azienda\n",
    "    - GDS: attraverso un sisteam informatico Global Distribution System \n",
    "    - Undefined\n",
    "- __is_reapeated_guest__: variabile binaria che indica se il cliente ha già alloggiato nell'hotel\n",
    "- __previous_cancellations__: numero di cancellazioni effettuate dal cliente in precedenza\n",
    "- __previous_bookings_not_canceled__: numero di prenotazioni seguite da un effettivo soggiorno effettuate dal cliente\n",
    "- __reserved_room_type__: codice (A-G) che indica il tipo di camera prenotata, indicato come codice per anonimità\n",
    "- __assigned_room_type__: codice (A-G) che indica il tipo di camera realmente asseganta, indicato come codice per anonimità e a volte diversa da quella prenotata per richiesta dell'utente o overbooking\n",
    "- __booking_changes__: numero di modifiche fatte alla prenotazione\n",
    "- __deposit_type__: indica se è stato effettuato qualche tipo di pagamento al momento della prenotazione\n",
    "    - No Deposit: nessun pagamento\n",
    "    - No Refund: pagamento del'intera somma\n",
    "    - Refundable: pagamento di una caparra (non presente nel dataset)\n",
    "- __agent__: ID della agenzia viaggi che ha fatto la prenotazione\n",
    "- __company__: ID della compagnia o dell'entità che ha fatto la prenotazione o è responsabile per il pagamento\n",
    "- __days_in_waiting_list__: giorni che ha atteso l'utente prima di ricevere la conferma della prenotazione\n",
    "- __customer_type__: tipo di prenotazione\n",
    "    - Contract: fatto tramite un contratto, solitmente con un tour operator\n",
    "    - Group: associata a un gruppo\n",
    "    - Transient: semplici ospiti che richiedono un soggiorno\n",
    "    - Transiente-party: semplici ospiti che richiedono un soggiorno last-minute e/o breve, walk-int \n",
    "- __adr__: Average Daily Rate, media delle 'lodging transactions' per notte di soggiorno\n",
    "- __required_car_parking_spaces__: numero di parcheggi richiesti dal cliente\n",
    "- __total_of_special_requests__: numero di richieste particolari fatte dall'owner ad esempio letti singoli o un piano alto nel palazzo\n",
    "- __reservation_status__: stato finale della prenotazione\n",
    "    - Canceled: cancellata\n",
    "    - Check-Out: soggiorno effettuato\n",
    "    - No-Show: il cliente non si è presentato senza fornire spiegazioni\n",
    "- __reservation_status_date__: data in cui è stato impostato l'ultimo status della prenotazione, nel caso di cancellazione è la data di cancellazione, nel caso di soggiorno la data del check-out\n",
    "- **is_canceled**: _variabile discreta binaria che indica se la prenotazione è stata cancellata_\n",
    "    - vogliamo stimare il valore di questa variabile in funzione delle altre"
   ]
  },
  {
   "cell_type": "markdown",
   "metadata": {},
   "source": [
    "# Analisi Esplorativa\n",
    "- I dati raccolti ci permettono di ricavare svariate informazioni sulle abitudini di cancellazione dei clienti.\n",
    "- Possiamo iniziare a valutare il problema visualizzando alcune informazioni sulle prenotazioni cancellate, ad esempio la quantità e la percentuale.\n",
    "    - Graficamente possiamo visualizzare tali informazioni in un grafico a torta."
   ]
  },
  {
   "cell_type": "code",
   "execution_count": 567,
   "metadata": {},
   "outputs": [
    {
     "data": {
      "text/plain": [
       "0    75166\n",
       "1    44224\n",
       "Name: is_canceled, dtype: int64"
      ]
     },
     "execution_count": 567,
     "metadata": {},
     "output_type": "execute_result"
    }
   ],
   "source": [
    "hbookings['is_canceled'].value_counts()"
   ]
  },
  {
   "cell_type": "code",
   "execution_count": 568,
   "metadata": {
    "scrolled": true
   },
   "outputs": [
    {
     "data": {
      "text/plain": [
       "0.37041628277075134"
      ]
     },
     "execution_count": 568,
     "metadata": {},
     "output_type": "execute_result"
    }
   ],
   "source": [
    "hbookings['is_canceled'].mean()"
   ]
  },
  {
   "cell_type": "code",
   "execution_count": 569,
   "metadata": {},
   "outputs": [
    {
     "data": {
      "image/png": "[encoded data removed]",
      "text/plain": [
       "<Figure size 432x288 with 1 Axes>"
      ]
     },
     "metadata": {},
     "output_type": "display_data"
    }
   ],
   "source": [
    "plt.pie(hbookings['is_canceled'].value_counts(), labels = ['checked-in', 'canceled']);"
   ]
  },
  {
   "cell_type": "markdown",
   "metadata": {},
   "source": [
    "- Possiamo anche vedere tutte le statistiche delle colonne in formato numerico che ci sono fornite..."
   ]
  },
  {
   "cell_type": "code",
   "execution_count": 570,
   "metadata": {
    "scrolled": true
   },
   "outputs": [
    {
     "data": {
      "text/html": [
       "<div>\n",
       "<style scoped>\n",
       "    .dataframe tbody tr th:only-of-type {\n",
       "        vertical-align: middle;\n",
       "    }\n",
       "\n",
       "    .dataframe tbody tr th {\n",
       "        vertical-align: top;\n",
       "    }\n",
       "\n",
       "    .dataframe thead th {\n",
       "        text-align: right;\n",
       "    }\n",
       "</style>\n",
       "<table border=\"1\" class=\"dataframe\">\n",
       "  <thead>\n",
       "    <tr style=\"text-align: right;\">\n",
       "      <th></th>\n",
       "      <th>is_canceled</th>\n",
       "      <th>lead_time</th>\n",
       "      <th>arrival_date_year</th>\n",
       "      <th>arrival_date_week_number</th>\n",
       "      <th>arrival_date_day_of_month</th>\n",
       "      <th>stays_in_weekend_nights</th>\n",
       "      <th>stays_in_week_nights</th>\n",
       "      <th>adults</th>\n",
       "      <th>children</th>\n",
       "      <th>babies</th>\n",
       "      <th>is_repeated_guest</th>\n",
       "      <th>previous_cancellations</th>\n",
       "      <th>previous_bookings_not_canceled</th>\n",
       "      <th>booking_changes</th>\n",
       "      <th>agent</th>\n",
       "      <th>company</th>\n",
       "      <th>days_in_waiting_list</th>\n",
       "      <th>adr</th>\n",
       "      <th>required_car_parking_spaces</th>\n",
       "      <th>total_of_special_requests</th>\n",
       "    </tr>\n",
       "  </thead>\n",
       "  <tbody>\n",
       "    <tr>\n",
       "      <td>count</td>\n",
       "      <td>119390.000000</td>\n",
       "      <td>119390.000000</td>\n",
       "      <td>119390.000000</td>\n",
       "      <td>119390.000000</td>\n",
       "      <td>119390.000000</td>\n",
       "      <td>119390.000000</td>\n",
       "      <td>119390.000000</td>\n",
       "      <td>119390.000000</td>\n",
       "      <td>119386.000000</td>\n",
       "      <td>119390.000000</td>\n",
       "      <td>119390.000000</td>\n",
       "      <td>119390.000000</td>\n",
       "      <td>119390.000000</td>\n",
       "      <td>119390.000000</td>\n",
       "      <td>103050.000000</td>\n",
       "      <td>6797.000000</td>\n",
       "      <td>119390.000000</td>\n",
       "      <td>119390.000000</td>\n",
       "      <td>119390.000000</td>\n",
       "      <td>119390.000000</td>\n",
       "    </tr>\n",
       "    <tr>\n",
       "      <td>mean</td>\n",
       "      <td>0.370416</td>\n",
       "      <td>104.011416</td>\n",
       "      <td>2016.156554</td>\n",
       "      <td>27.165173</td>\n",
       "      <td>15.798241</td>\n",
       "      <td>0.927599</td>\n",
       "      <td>2.500302</td>\n",
       "      <td>1.856403</td>\n",
       "      <td>0.103890</td>\n",
       "      <td>0.007949</td>\n",
       "      <td>0.031912</td>\n",
       "      <td>0.087118</td>\n",
       "      <td>0.137097</td>\n",
       "      <td>0.221124</td>\n",
       "      <td>86.693382</td>\n",
       "      <td>189.266735</td>\n",
       "      <td>2.321149</td>\n",
       "      <td>101.831122</td>\n",
       "      <td>0.062518</td>\n",
       "      <td>0.571363</td>\n",
       "    </tr>\n",
       "    <tr>\n",
       "      <td>std</td>\n",
       "      <td>0.482918</td>\n",
       "      <td>106.863097</td>\n",
       "      <td>0.707476</td>\n",
       "      <td>13.605138</td>\n",
       "      <td>8.780829</td>\n",
       "      <td>0.998613</td>\n",
       "      <td>1.908286</td>\n",
       "      <td>0.579261</td>\n",
       "      <td>0.398561</td>\n",
       "      <td>0.097436</td>\n",
       "      <td>0.175767</td>\n",
       "      <td>0.844336</td>\n",
       "      <td>1.497437</td>\n",
       "      <td>0.652306</td>\n",
       "      <td>110.774548</td>\n",
       "      <td>131.655015</td>\n",
       "      <td>17.594721</td>\n",
       "      <td>50.535790</td>\n",
       "      <td>0.245291</td>\n",
       "      <td>0.792798</td>\n",
       "    </tr>\n",
       "    <tr>\n",
       "      <td>min</td>\n",
       "      <td>0.000000</td>\n",
       "      <td>0.000000</td>\n",
       "      <td>2015.000000</td>\n",
       "      <td>1.000000</td>\n",
       "      <td>1.000000</td>\n",
       "      <td>0.000000</td>\n",
       "      <td>0.000000</td>\n",
       "      <td>0.000000</td>\n",
       "      <td>0.000000</td>\n",
       "      <td>0.000000</td>\n",
       "      <td>0.000000</td>\n",
       "      <td>0.000000</td>\n",
       "      <td>0.000000</td>\n",
       "      <td>0.000000</td>\n",
       "      <td>1.000000</td>\n",
       "      <td>6.000000</td>\n",
       "      <td>0.000000</td>\n",
       "      <td>-6.380000</td>\n",
       "      <td>0.000000</td>\n",
       "      <td>0.000000</td>\n",
       "    </tr>\n",
       "    <tr>\n",
       "      <td>25%</td>\n",
       "      <td>0.000000</td>\n",
       "      <td>18.000000</td>\n",
       "      <td>2016.000000</td>\n",
       "      <td>16.000000</td>\n",
       "      <td>8.000000</td>\n",
       "      <td>0.000000</td>\n",
       "      <td>1.000000</td>\n",
       "      <td>2.000000</td>\n",
       "      <td>0.000000</td>\n",
       "      <td>0.000000</td>\n",
       "      <td>0.000000</td>\n",
       "      <td>0.000000</td>\n",
       "      <td>0.000000</td>\n",
       "      <td>0.000000</td>\n",
       "      <td>9.000000</td>\n",
       "      <td>62.000000</td>\n",
       "      <td>0.000000</td>\n",
       "      <td>69.290000</td>\n",
       "      <td>0.000000</td>\n",
       "      <td>0.000000</td>\n",
       "    </tr>\n",
       "    <tr>\n",
       "      <td>50%</td>\n",
       "      <td>0.000000</td>\n",
       "      <td>69.000000</td>\n",
       "      <td>2016.000000</td>\n",
       "      <td>28.000000</td>\n",
       "      <td>16.000000</td>\n",
       "      <td>1.000000</td>\n",
       "      <td>2.000000</td>\n",
       "      <td>2.000000</td>\n",
       "      <td>0.000000</td>\n",
       "      <td>0.000000</td>\n",
       "      <td>0.000000</td>\n",
       "      <td>0.000000</td>\n",
       "      <td>0.000000</td>\n",
       "      <td>0.000000</td>\n",
       "      <td>14.000000</td>\n",
       "      <td>179.000000</td>\n",
       "      <td>0.000000</td>\n",
       "      <td>94.575000</td>\n",
       "      <td>0.000000</td>\n",
       "      <td>0.000000</td>\n",
       "    </tr>\n",
       "    <tr>\n",
       "      <td>75%</td>\n",
       "      <td>1.000000</td>\n",
       "      <td>160.000000</td>\n",
       "      <td>2017.000000</td>\n",
       "      <td>38.000000</td>\n",
       "      <td>23.000000</td>\n",
       "      <td>2.000000</td>\n",
       "      <td>3.000000</td>\n",
       "      <td>2.000000</td>\n",
       "      <td>0.000000</td>\n",
       "      <td>0.000000</td>\n",
       "      <td>0.000000</td>\n",
       "      <td>0.000000</td>\n",
       "      <td>0.000000</td>\n",
       "      <td>0.000000</td>\n",
       "      <td>229.000000</td>\n",
       "      <td>270.000000</td>\n",
       "      <td>0.000000</td>\n",
       "      <td>126.000000</td>\n",
       "      <td>0.000000</td>\n",
       "      <td>1.000000</td>\n",
       "    </tr>\n",
       "    <tr>\n",
       "      <td>max</td>\n",
       "      <td>1.000000</td>\n",
       "      <td>737.000000</td>\n",
       "      <td>2017.000000</td>\n",
       "      <td>53.000000</td>\n",
       "      <td>31.000000</td>\n",
       "      <td>19.000000</td>\n",
       "      <td>50.000000</td>\n",
       "      <td>55.000000</td>\n",
       "      <td>10.000000</td>\n",
       "      <td>10.000000</td>\n",
       "      <td>1.000000</td>\n",
       "      <td>26.000000</td>\n",
       "      <td>72.000000</td>\n",
       "      <td>21.000000</td>\n",
       "      <td>535.000000</td>\n",
       "      <td>543.000000</td>\n",
       "      <td>391.000000</td>\n",
       "      <td>5400.000000</td>\n",
       "      <td>8.000000</td>\n",
       "      <td>5.000000</td>\n",
       "    </tr>\n",
       "  </tbody>\n",
       "</table>\n",
       "</div>"
      ],
      "text/plain": [
       "         is_canceled      lead_time  arrival_date_year  \\\n",
       "count  119390.000000  119390.000000      119390.000000   \n",
       "mean        0.370416     104.011416        2016.156554   \n",
       "std         0.482918     106.863097           0.707476   \n",
       "min         0.000000       0.000000        2015.000000   \n",
       "25%         0.000000      18.000000        2016.000000   \n",
       "50%         0.000000      69.000000        2016.000000   \n",
       "75%         1.000000     160.000000        2017.000000   \n",
       "max         1.000000     737.000000        2017.000000   \n",
       "\n",
       "       arrival_date_week_number  arrival_date_day_of_month  \\\n",
       "count             119390.000000              119390.000000   \n",
       "mean                  27.165173                  15.798241   \n",
       "std                   13.605138                   8.780829   \n",
       "min                    1.000000                   1.000000   \n",
       "25%                   16.000000                   8.000000   \n",
       "50%                   28.000000                  16.000000   \n",
       "75%                   38.000000                  23.000000   \n",
       "max                   53.000000                  31.000000   \n",
       "\n",
       "       stays_in_weekend_nights  stays_in_week_nights         adults  \\\n",
       "count            119390.000000         119390.000000  119390.000000   \n",
       "mean                  0.927599              2.500302       1.856403   \n",
       "std                   0.998613              1.908286       0.579261   \n",
       "min                   0.000000              0.000000       0.000000   \n",
       "25%                   0.000000              1.000000       2.000000   \n",
       "50%                   1.000000              2.000000       2.000000   \n",
       "75%                   2.000000              3.000000       2.000000   \n",
       "max                  19.000000             50.000000      55.000000   \n",
       "\n",
       "            children         babies  is_repeated_guest  \\\n",
       "count  119386.000000  119390.000000      119390.000000   \n",
       "mean        0.103890       0.007949           0.031912   \n",
       "std         0.398561       0.097436           0.175767   \n",
       "min         0.000000       0.000000           0.000000   \n",
       "25%         0.000000       0.000000           0.000000   \n",
       "50%         0.000000       0.000000           0.000000   \n",
       "75%         0.000000       0.000000           0.000000   \n",
       "max        10.000000      10.000000           1.000000   \n",
       "\n",
       "       previous_cancellations  previous_bookings_not_canceled  \\\n",
       "count           119390.000000                   119390.000000   \n",
       "mean                 0.087118                        0.137097   \n",
       "std                  0.844336                        1.497437   \n",
       "min                  0.000000                        0.000000   \n",
       "25%                  0.000000                        0.000000   \n",
       "50%                  0.000000                        0.000000   \n",
       "75%                  0.000000                        0.000000   \n",
       "max                 26.000000                       72.000000   \n",
       "\n",
       "       booking_changes          agent      company  days_in_waiting_list  \\\n",
       "count    119390.000000  103050.000000  6797.000000         119390.000000   \n",
       "mean          0.221124      86.693382   189.266735              2.321149   \n",
       "std           0.652306     110.774548   131.655015             17.594721   \n",
       "min           0.000000       1.000000     6.000000              0.000000   \n",
       "25%           0.000000       9.000000    62.000000              0.000000   \n",
       "50%           0.000000      14.000000   179.000000              0.000000   \n",
       "75%           0.000000     229.000000   270.000000              0.000000   \n",
       "max          21.000000     535.000000   543.000000            391.000000   \n",
       "\n",
       "                 adr  required_car_parking_spaces  total_of_special_requests  \n",
       "count  119390.000000                119390.000000              119390.000000  \n",
       "mean      101.831122                     0.062518                   0.571363  \n",
       "std        50.535790                     0.245291                   0.792798  \n",
       "min        -6.380000                     0.000000                   0.000000  \n",
       "25%        69.290000                     0.000000                   0.000000  \n",
       "50%        94.575000                     0.000000                   0.000000  \n",
       "75%       126.000000                     0.000000                   1.000000  \n",
       "max      5400.000000                     8.000000                   5.000000  "
      ]
     },
     "execution_count": 570,
     "metadata": {},
     "output_type": "execute_result"
    }
   ],
   "source": [
    "hbookings.describe()"
   ]
  },
  {
   "cell_type": "markdown",
   "metadata": {},
   "source": [
    "... e come queste statistiche cambiano nel caso in cui di concentriamo solo sui dati riguardanti prenotazioni cancellate:"
   ]
  },
  {
   "cell_type": "code",
   "execution_count": 571,
   "metadata": {
    "scrolled": false
   },
   "outputs": [
    {
     "data": {
      "text/html": [
       "<div>\n",
       "<style scoped>\n",
       "    .dataframe tbody tr th:only-of-type {\n",
       "        vertical-align: middle;\n",
       "    }\n",
       "\n",
       "    .dataframe tbody tr th {\n",
       "        vertical-align: top;\n",
       "    }\n",
       "\n",
       "    .dataframe thead th {\n",
       "        text-align: right;\n",
       "    }\n",
       "</style>\n",
       "<table border=\"1\" class=\"dataframe\">\n",
       "  <thead>\n",
       "    <tr style=\"text-align: right;\">\n",
       "      <th></th>\n",
       "      <th>lead_time</th>\n",
       "      <th>arrival_date_year</th>\n",
       "      <th>arrival_date_week_number</th>\n",
       "      <th>arrival_date_day_of_month</th>\n",
       "      <th>stays_in_weekend_nights</th>\n",
       "      <th>stays_in_week_nights</th>\n",
       "      <th>adults</th>\n",
       "      <th>children</th>\n",
       "      <th>babies</th>\n",
       "      <th>is_repeated_guest</th>\n",
       "      <th>previous_cancellations</th>\n",
       "      <th>previous_bookings_not_canceled</th>\n",
       "      <th>booking_changes</th>\n",
       "      <th>agent</th>\n",
       "      <th>company</th>\n",
       "      <th>days_in_waiting_list</th>\n",
       "      <th>adr</th>\n",
       "      <th>required_car_parking_spaces</th>\n",
       "      <th>total_of_special_requests</th>\n",
       "    </tr>\n",
       "  </thead>\n",
       "  <tbody>\n",
       "    <tr>\n",
       "      <td>count</td>\n",
       "      <td>44224.000000</td>\n",
       "      <td>44224.000000</td>\n",
       "      <td>44224.000000</td>\n",
       "      <td>44224.000000</td>\n",
       "      <td>44224.000000</td>\n",
       "      <td>44224.000000</td>\n",
       "      <td>44224.000000</td>\n",
       "      <td>44220.000000</td>\n",
       "      <td>44224.000000</td>\n",
       "      <td>44224.000000</td>\n",
       "      <td>44224.000000</td>\n",
       "      <td>44224.000000</td>\n",
       "      <td>44224.000000</td>\n",
       "      <td>40194.000000</td>\n",
       "      <td>1191.000000</td>\n",
       "      <td>44224.000000</td>\n",
       "      <td>44224.000000</td>\n",
       "      <td>44224.0</td>\n",
       "      <td>44224.000000</td>\n",
       "    </tr>\n",
       "    <tr>\n",
       "      <td>mean</td>\n",
       "      <td>144.848815</td>\n",
       "      <td>2016.171920</td>\n",
       "      <td>27.309696</td>\n",
       "      <td>15.728066</td>\n",
       "      <td>0.925267</td>\n",
       "      <td>2.561912</td>\n",
       "      <td>1.901728</td>\n",
       "      <td>0.106513</td>\n",
       "      <td>0.003821</td>\n",
       "      <td>0.012482</td>\n",
       "      <td>0.208348</td>\n",
       "      <td>0.025122</td>\n",
       "      <td>0.098340</td>\n",
       "      <td>75.179927</td>\n",
       "      <td>183.371117</td>\n",
       "      <td>3.564083</td>\n",
       "      <td>104.964333</td>\n",
       "      <td>0.0</td>\n",
       "      <td>0.328826</td>\n",
       "    </tr>\n",
       "    <tr>\n",
       "      <td>std</td>\n",
       "      <td>118.624829</td>\n",
       "      <td>0.714557</td>\n",
       "      <td>13.083155</td>\n",
       "      <td>8.787969</td>\n",
       "      <td>1.007468</td>\n",
       "      <td>1.878296</td>\n",
       "      <td>0.678038</td>\n",
       "      <td>0.411352</td>\n",
       "      <td>0.062429</td>\n",
       "      <td>0.111024</td>\n",
       "      <td>1.332346</td>\n",
       "      <td>0.678941</td>\n",
       "      <td>0.451008</td>\n",
       "      <td>104.589834</td>\n",
       "      <td>128.226814</td>\n",
       "      <td>21.488768</td>\n",
       "      <td>52.571142</td>\n",
       "      <td>0.0</td>\n",
       "      <td>0.649234</td>\n",
       "    </tr>\n",
       "    <tr>\n",
       "      <td>min</td>\n",
       "      <td>0.000000</td>\n",
       "      <td>2015.000000</td>\n",
       "      <td>1.000000</td>\n",
       "      <td>1.000000</td>\n",
       "      <td>0.000000</td>\n",
       "      <td>0.000000</td>\n",
       "      <td>0.000000</td>\n",
       "      <td>0.000000</td>\n",
       "      <td>0.000000</td>\n",
       "      <td>0.000000</td>\n",
       "      <td>0.000000</td>\n",
       "      <td>0.000000</td>\n",
       "      <td>0.000000</td>\n",
       "      <td>1.000000</td>\n",
       "      <td>9.000000</td>\n",
       "      <td>0.000000</td>\n",
       "      <td>0.000000</td>\n",
       "      <td>0.0</td>\n",
       "      <td>0.000000</td>\n",
       "    </tr>\n",
       "    <tr>\n",
       "      <td>25%</td>\n",
       "      <td>48.000000</td>\n",
       "      <td>2016.000000</td>\n",
       "      <td>17.000000</td>\n",
       "      <td>8.000000</td>\n",
       "      <td>0.000000</td>\n",
       "      <td>1.000000</td>\n",
       "      <td>2.000000</td>\n",
       "      <td>0.000000</td>\n",
       "      <td>0.000000</td>\n",
       "      <td>0.000000</td>\n",
       "      <td>0.000000</td>\n",
       "      <td>0.000000</td>\n",
       "      <td>0.000000</td>\n",
       "      <td>9.000000</td>\n",
       "      <td>67.000000</td>\n",
       "      <td>0.000000</td>\n",
       "      <td>72.415000</td>\n",
       "      <td>0.0</td>\n",
       "      <td>0.000000</td>\n",
       "    </tr>\n",
       "    <tr>\n",
       "      <td>50%</td>\n",
       "      <td>113.000000</td>\n",
       "      <td>2016.000000</td>\n",
       "      <td>27.000000</td>\n",
       "      <td>16.000000</td>\n",
       "      <td>1.000000</td>\n",
       "      <td>2.000000</td>\n",
       "      <td>2.000000</td>\n",
       "      <td>0.000000</td>\n",
       "      <td>0.000000</td>\n",
       "      <td>0.000000</td>\n",
       "      <td>0.000000</td>\n",
       "      <td>0.000000</td>\n",
       "      <td>0.000000</td>\n",
       "      <td>9.000000</td>\n",
       "      <td>169.000000</td>\n",
       "      <td>0.000000</td>\n",
       "      <td>96.200000</td>\n",
       "      <td>0.0</td>\n",
       "      <td>0.000000</td>\n",
       "    </tr>\n",
       "    <tr>\n",
       "      <td>75%</td>\n",
       "      <td>214.000000</td>\n",
       "      <td>2017.000000</td>\n",
       "      <td>38.000000</td>\n",
       "      <td>23.000000</td>\n",
       "      <td>2.000000</td>\n",
       "      <td>3.000000</td>\n",
       "      <td>2.000000</td>\n",
       "      <td>0.000000</td>\n",
       "      <td>0.000000</td>\n",
       "      <td>0.000000</td>\n",
       "      <td>0.000000</td>\n",
       "      <td>0.000000</td>\n",
       "      <td>0.000000</td>\n",
       "      <td>149.000000</td>\n",
       "      <td>270.000000</td>\n",
       "      <td>0.000000</td>\n",
       "      <td>127.620000</td>\n",
       "      <td>0.0</td>\n",
       "      <td>0.000000</td>\n",
       "    </tr>\n",
       "    <tr>\n",
       "      <td>max</td>\n",
       "      <td>629.000000</td>\n",
       "      <td>2017.000000</td>\n",
       "      <td>53.000000</td>\n",
       "      <td>31.000000</td>\n",
       "      <td>16.000000</td>\n",
       "      <td>40.000000</td>\n",
       "      <td>55.000000</td>\n",
       "      <td>10.000000</td>\n",
       "      <td>2.000000</td>\n",
       "      <td>1.000000</td>\n",
       "      <td>26.000000</td>\n",
       "      <td>58.000000</td>\n",
       "      <td>16.000000</td>\n",
       "      <td>531.000000</td>\n",
       "      <td>543.000000</td>\n",
       "      <td>391.000000</td>\n",
       "      <td>5400.000000</td>\n",
       "      <td>0.0</td>\n",
       "      <td>5.000000</td>\n",
       "    </tr>\n",
       "  </tbody>\n",
       "</table>\n",
       "</div>"
      ],
      "text/plain": [
       "          lead_time  arrival_date_year  arrival_date_week_number  \\\n",
       "count  44224.000000       44224.000000              44224.000000   \n",
       "mean     144.848815        2016.171920                 27.309696   \n",
       "std      118.624829           0.714557                 13.083155   \n",
       "min        0.000000        2015.000000                  1.000000   \n",
       "25%       48.000000        2016.000000                 17.000000   \n",
       "50%      113.000000        2016.000000                 27.000000   \n",
       "75%      214.000000        2017.000000                 38.000000   \n",
       "max      629.000000        2017.000000                 53.000000   \n",
       "\n",
       "       arrival_date_day_of_month  stays_in_weekend_nights  \\\n",
       "count               44224.000000             44224.000000   \n",
       "mean                   15.728066                 0.925267   \n",
       "std                     8.787969                 1.007468   \n",
       "min                     1.000000                 0.000000   \n",
       "25%                     8.000000                 0.000000   \n",
       "50%                    16.000000                 1.000000   \n",
       "75%                    23.000000                 2.000000   \n",
       "max                    31.000000                16.000000   \n",
       "\n",
       "       stays_in_week_nights        adults      children        babies  \\\n",
       "count          44224.000000  44224.000000  44220.000000  44224.000000   \n",
       "mean               2.561912      1.901728      0.106513      0.003821   \n",
       "std                1.878296      0.678038      0.411352      0.062429   \n",
       "min                0.000000      0.000000      0.000000      0.000000   \n",
       "25%                1.000000      2.000000      0.000000      0.000000   \n",
       "50%                2.000000      2.000000      0.000000      0.000000   \n",
       "75%                3.000000      2.000000      0.000000      0.000000   \n",
       "max               40.000000     55.000000     10.000000      2.000000   \n",
       "\n",
       "       is_repeated_guest  previous_cancellations  \\\n",
       "count       44224.000000            44224.000000   \n",
       "mean            0.012482                0.208348   \n",
       "std             0.111024                1.332346   \n",
       "min             0.000000                0.000000   \n",
       "25%             0.000000                0.000000   \n",
       "50%             0.000000                0.000000   \n",
       "75%             0.000000                0.000000   \n",
       "max             1.000000               26.000000   \n",
       "\n",
       "       previous_bookings_not_canceled  booking_changes         agent  \\\n",
       "count                    44224.000000     44224.000000  40194.000000   \n",
       "mean                         0.025122         0.098340     75.179927   \n",
       "std                          0.678941         0.451008    104.589834   \n",
       "min                          0.000000         0.000000      1.000000   \n",
       "25%                          0.000000         0.000000      9.000000   \n",
       "50%                          0.000000         0.000000      9.000000   \n",
       "75%                          0.000000         0.000000    149.000000   \n",
       "max                         58.000000        16.000000    531.000000   \n",
       "\n",
       "           company  days_in_waiting_list           adr  \\\n",
       "count  1191.000000          44224.000000  44224.000000   \n",
       "mean    183.371117              3.564083    104.964333   \n",
       "std     128.226814             21.488768     52.571142   \n",
       "min       9.000000              0.000000      0.000000   \n",
       "25%      67.000000              0.000000     72.415000   \n",
       "50%     169.000000              0.000000     96.200000   \n",
       "75%     270.000000              0.000000    127.620000   \n",
       "max     543.000000            391.000000   5400.000000   \n",
       "\n",
       "       required_car_parking_spaces  total_of_special_requests  \n",
       "count                      44224.0               44224.000000  \n",
       "mean                           0.0                   0.328826  \n",
       "std                            0.0                   0.649234  \n",
       "min                            0.0                   0.000000  \n",
       "25%                            0.0                   0.000000  \n",
       "50%                            0.0                   0.000000  \n",
       "75%                            0.0                   0.000000  \n",
       "max                            0.0                   5.000000  "
      ]
     },
     "execution_count": 571,
     "metadata": {},
     "output_type": "execute_result"
    }
   ],
   "source": [
    "chbookings = hbookings[hbookings['is_canceled'] == 1].drop(columns='is_canceled')\n",
    "chbookings.describe()"
   ]
  },
  {
   "cell_type": "markdown",
   "metadata": {},
   "source": [
    "- Possiamo vedere i valori distinti di ciascuna feature."
   ]
  },
  {
   "cell_type": "code",
   "execution_count": 572,
   "metadata": {
    "scrolled": true
   },
   "outputs": [
    {
     "data": {
      "text/plain": [
       "hotel                                2\n",
       "is_canceled                          2\n",
       "lead_time                          479\n",
       "arrival_date_year                    3\n",
       "arrival_date_month                  12\n",
       "arrival_date_week_number            53\n",
       "arrival_date_day_of_month           31\n",
       "stays_in_weekend_nights             17\n",
       "stays_in_week_nights                35\n",
       "adults                              14\n",
       "children                             5\n",
       "babies                               5\n",
       "meal                                 5\n",
       "country                            177\n",
       "market_segment                       8\n",
       "distribution_channel                 5\n",
       "is_repeated_guest                    2\n",
       "previous_cancellations              15\n",
       "previous_bookings_not_canceled      73\n",
       "reserved_room_type                  10\n",
       "assigned_room_type                  12\n",
       "booking_changes                     21\n",
       "deposit_type                         3\n",
       "agent                              333\n",
       "company                            352\n",
       "days_in_waiting_list               128\n",
       "customer_type                        4\n",
       "adr                               8879\n",
       "required_car_parking_spaces          5\n",
       "total_of_special_requests            6\n",
       "reservation_status                   3\n",
       "reservation_status_date            926\n",
       "dtype: int64"
      ]
     },
     "execution_count": 572,
     "metadata": {},
     "output_type": "execute_result"
    }
   ],
   "source": [
    "hbookings.nunique()"
   ]
  },
  {
   "cell_type": "markdown",
   "metadata": {},
   "source": [
    "- Visualizziamo la distribuzione di alcune variabili non binarie del Dataset."
   ]
  },
  {
   "cell_type": "code",
   "execution_count": 573,
   "metadata": {},
   "outputs": [
    {
     "data": {
      "image/png": "[encoded data removed]",
      "text/plain": [
       "<Figure size 1440x720 with 6 Axes>"
      ]
     },
     "metadata": {
      "needs_background": "light"
     },
     "output_type": "display_data"
    }
   ],
   "source": [
    "plt.figure(figsize=(20, 10))\n",
    "\n",
    "plt.subplot(2, 3, 1)\n",
    "plt.title('lead_time')\n",
    "plt.hist(hbookings['lead_time'], label=\"lead_time\", color='red', bins=30, range=(0, 300))\n",
    "plt.ylabel('count')\n",
    "plt.xlabel('days')\n",
    "\n",
    "plt.subplot(2, 3, 2)\n",
    "plt.title('adults')\n",
    "plt.hist(hbookings['adults'], label=\"adults\", color='pink', bins=10, range=(0, 10))\n",
    "plt.ylabel('count')\n",
    "plt.xlabel('number of adults')\n",
    "\n",
    "plt.subplot(2, 3, 3)\n",
    "plt.title('children')\n",
    "plt.hist(hbookings['children'], label=\"children\", color='purple', bins=10, range=(0, 10))\n",
    "plt.ylabel('count')\n",
    "plt.xlabel('number of children')\n",
    "\n",
    "plt.subplot(2, 3, 4)\n",
    "plt.title('meal')\n",
    "plt.hist(hbookings['meal'], label=\"meal\", color='green')\n",
    "plt.ylabel('count')\n",
    "plt.xlabel('meals')\n",
    "\n",
    "plt.subplot(2, 3, 5)\n",
    "plt.title('reserved_room_type')\n",
    "plt.hist(hbookings['reserved_room_type'], label=\"reserved_room_type\", color='blue', bins=20)\n",
    "plt.ylabel('count')\n",
    "plt.xlabel('room type')\n",
    "\n",
    "plt.subplot(2, 3, 6)\n",
    "plt.title('total_of_special_requests')\n",
    "plt.hist(hbookings['total_of_special_requests'], label=\"total_of_special_requests\", color='black', bins=20)\n",
    "plt.ylabel('count')\n",
    "plt.xlabel('number of special requests');"
   ]
  },
  {
   "cell_type": "markdown",
   "metadata": {},
   "source": [
    "- Si può notare che:\n",
    "    - Le prenotazioni vengono effettuate più di frequente a ridosso del soggiorno, la maggior parte meno di 10 giorni prima.\n",
    "    - Solitamente le prenotazioni sono per due adulti, ma ci sono abbastanza casi anche per un solo adulto o 3 adulti.\n",
    "    - La maggior parte delle prenotazioni non include bambini.\n",
    "    - Una grandissima quantità di prenotazioni sono di tipo BB per quanto riguarda i pasti, mentre ce ne sono molto poche di tipo HB.\n",
    "    - La stanza di tipo A è di gran lunga quella richiesta più frequentemente.\n",
    "    - Nella maggior parte delle prenotazioni non ci sono richieste speciali."
   ]
  },
  {
   "cell_type": "markdown",
   "metadata": {},
   "source": [
    "## Analisi dell'importanza delle feature 'arrival_date_month' e 'country'\n",
    "### _arrival_date_month_\n",
    "- Possiamo calcolare il numero di cancellazioni per mese."
   ]
  },
  {
   "cell_type": "code",
   "execution_count": 574,
   "metadata": {},
   "outputs": [
    {
     "data": {
      "image/png": "[encoded data removed]",
      "text/plain": [
       "<Figure size 936x360 with 1 Axes>"
      ]
     },
     "metadata": {
      "needs_background": "light"
     },
     "output_type": "display_data"
    }
   ],
   "source": [
    "from matplotlib.pyplot import figure\n",
    "plt.figure(figsize=(13,5))\n",
    "plt.bar(chbookings['arrival_date_month'].value_counts().index, chbookings['arrival_date_month'].value_counts());\n",
    "plt.title(\"Cancellazioni per mese\")\n",
    "plt.xlabel(\"Mese\")\n",
    "plt.ylabel(\"Cancellazioni\");"
   ]
  },
  {
   "cell_type": "markdown",
   "metadata": {},
   "source": [
    "- Sembra che per Agosto avvengano un sacco di cancellazioni.\n",
    "- Per avere una visione più completa vediamo i mesi di presunto inizio soggiorno in cui il numero di cancellazioni in percentuale è stato più alto."
   ]
  },
  {
   "cell_type": "code",
   "execution_count": 575,
   "metadata": {
    "scrolled": false
   },
   "outputs": [
    {
     "data": {
      "text/plain": [
       "April        0.407972\n",
       "August       0.377531\n",
       "December     0.349705\n",
       "February     0.334160\n",
       "January      0.304773\n",
       "July         0.374536\n",
       "June         0.414572\n",
       "March        0.321523\n",
       "May          0.396658\n",
       "November     0.312334\n",
       "October      0.380466\n",
       "September    0.391702\n",
       "Name: arrival_date_month, dtype: float64"
      ]
     },
     "execution_count": 575,
     "metadata": {},
     "output_type": "execute_result"
    }
   ],
   "source": [
    "cmonths = chbookings['arrival_date_month'].value_counts() / hbookings['arrival_date_month'].value_counts()\n",
    "cmonths"
   ]
  },
  {
   "cell_type": "markdown",
   "metadata": {},
   "source": [
    "- Questi dati possono essere normalizzati per evidenziare meglio le differenze."
   ]
  },
  {
   "cell_type": "code",
   "execution_count": 576,
   "metadata": {
    "scrolled": false
   },
   "outputs": [
    {
     "data": {
      "text/plain": [
       "April        0.939891\n",
       "August       0.662650\n",
       "December     0.409221\n",
       "February     0.267640\n",
       "January      0.000000\n",
       "July         0.635371\n",
       "June         1.000000\n",
       "March        0.152554\n",
       "May          0.836854\n",
       "November     0.068865\n",
       "October      0.689379\n",
       "September    0.791708\n",
       "Name: arrival_date_month, dtype: float64"
      ]
     },
     "execution_count": 576,
     "metadata": {},
     "output_type": "execute_result"
    }
   ],
   "source": [
    "(cmonths-cmonths.min())/(cmonths.max()-cmonths.min())"
   ]
  },
  {
   "cell_type": "markdown",
   "metadata": {},
   "source": [
    "- Si può notare che le prenotazioni in Giugno, Aprile, Maggio e Settembre sono quelle più incerte mentre si può fare più affidamento sulle prenotazioni in Gennaio, Novembre o Marzo.\n",
    "- Il numero di cancellazioni ad Agosto che nel primo grafico è più alto in realtà non è particolarmente rilevante perchè ad Agosto ci sono anche molto più prenotazioni rispetto ad altri mesi, infatti la percentuale di cancellazioni è perfettamente nella media.\n",
    "- Sebbene dal primo grafico sembri che a Marzo ci siano più cancellazioni che a Febbraio, in realtà si può considerare più affidabile perchè anche il numero di prenotazioni è nettamente maggiore."
   ]
  },
  {
   "cell_type": "code",
   "execution_count": 577,
   "metadata": {},
   "outputs": [
    {
     "data": {
      "text/plain": [
       "8068"
      ]
     },
     "execution_count": 577,
     "metadata": {},
     "output_type": "execute_result"
    }
   ],
   "source": [
    "hbookings['arrival_date_month'].value_counts()['February']"
   ]
  },
  {
   "cell_type": "code",
   "execution_count": 578,
   "metadata": {},
   "outputs": [
    {
     "data": {
      "text/plain": [
       "9794"
      ]
     },
     "execution_count": 578,
     "metadata": {},
     "output_type": "execute_result"
    }
   ],
   "source": [
    "hbookings['arrival_date_month'].value_counts()['March']"
   ]
  },
  {
   "cell_type": "markdown",
   "metadata": {},
   "source": [
    "- La probabilità di cancellazione per mese si può valutare visivamente nel seguente grafico."
   ]
  },
  {
   "cell_type": "code",
   "execution_count": 579,
   "metadata": {},
   "outputs": [
    {
     "data": {
      "image/png": "[encoded data removed]",
      "text/plain": [
       "<Figure size 936x360 with 1 Axes>"
      ]
     },
     "metadata": {
      "needs_background": "light"
     },
     "output_type": "display_data"
    }
   ],
   "source": [
    "plt.figure(figsize=(13,5))\n",
    "plt.bar(cmonths.index, cmonths);\n",
    "plt.title(\"Percentuale di cancellazioni per mese\")\n",
    "plt.xlabel(\"Nazione\")\n",
    "plt.ylabel(\"Percentuale di cancellazioni\");"
   ]
  },
  {
   "cell_type": "markdown",
   "metadata": {},
   "source": [
    "### _country_\n",
    "- Un ragionamento analogo si può fare ad esempio con i paesi di provenienza.\n",
    "- Prendiamo in considerazione solamente i 20 paesi da cui vengono effettuate prenotazioni più di frequente."
   ]
  },
  {
   "cell_type": "code",
   "execution_count": 580,
   "metadata": {},
   "outputs": [],
   "source": [
    "countries = hbookings['country'].value_counts()[:20].index\n",
    "chcountries_bookings = chbookings[chbookings['country'].isin(countries)]"
   ]
  },
  {
   "cell_type": "code",
   "execution_count": 581,
   "metadata": {},
   "outputs": [
    {
     "data": {
      "image/png": "[encoded data removed]",
      "text/plain": [
       "<Figure size 936x360 with 1 Axes>"
      ]
     },
     "metadata": {
      "needs_background": "light"
     },
     "output_type": "display_data"
    }
   ],
   "source": [
    "plt.figure(figsize=(13,5))\n",
    "plt.bar(chcountries_bookings['country'].value_counts().index, chcountries_bookings['country'].value_counts())\n",
    "plt.title(\"Cancellazioni per nazione\")\n",
    "plt.xlabel(\"Nazioni\")\n",
    "plt.ylabel(\"Cancellazioni\");"
   ]
  },
  {
   "cell_type": "markdown",
   "metadata": {},
   "source": [
    "- Le cancellazioni sono fortemente sbilanciate in favore del Portogallo in quanto gli hotel presi in considerazione sono portoghesi perciò anche il numero delle prenotazioni totali è in favore del Portogallo."
   ]
  },
  {
   "cell_type": "code",
   "execution_count": 582,
   "metadata": {},
   "outputs": [
    {
     "data": {
      "text/plain": [
       "0.40698550967417707"
      ]
     },
     "execution_count": 582,
     "metadata": {},
     "output_type": "execute_result"
    }
   ],
   "source": [
    "hbookings[hbookings['country'] == 'PRT'].size / hbookings.size"
   ]
  },
  {
   "cell_type": "markdown",
   "metadata": {},
   "source": [
    "- In questo caso è ancora più importante visionare le percentuali di cancellazione invece del numero preciso di cancellazioni per avere un'idea della dipendenza fra paese di provenienza e probabilità di cancellazione della prenotazione."
   ]
  },
  {
   "cell_type": "code",
   "execution_count": 583,
   "metadata": {
    "scrolled": true
   },
   "outputs": [
    {
     "data": {
      "text/plain": [
       "PRT    0.566351\n",
       "CHN    0.462462\n",
       "RUS    0.378165\n",
       "BRA    0.373201\n",
       "ITA    0.353956\n",
       "NOR    0.298188\n",
       "ESP    0.254085\n",
       "ISR    0.252616\n",
       "CHE    0.247399\n",
       "IRL    0.246519\n",
       "USA    0.238913\n",
       "POL    0.233950\n",
       "SWE    0.221680\n",
       "BEL    0.202391\n",
       "GBR    0.202243\n",
       "CN     0.198593\n",
       "FRA    0.185694\n",
       "NLD    0.183935\n",
       "AUT    0.182106\n",
       "DEU    0.167147\n",
       "Name: country, dtype: float64"
      ]
     },
     "execution_count": 583,
     "metadata": {},
     "output_type": "execute_result"
    }
   ],
   "source": [
    "ccountry = chcountries_bookings['country'].value_counts() / hbookings[hbookings['country'].isin(countries)]['country'].value_counts()\n",
    "ccountry.sort_values(ascending=False)"
   ]
  },
  {
   "cell_type": "markdown",
   "metadata": {},
   "source": [
    "- Anche se il Portogallo rimane la nazione con percentuale di cancellazione più alta (56%), altre nazioni come la Cina (46%), la Russia (38%), il Brasile (37%) o l'Italia (35%) che nel grafico sembrano avere un numero irrisorio di cancellazioni in realtà hanno delle percentuali piuttosto alte.\n",
    "- Lo possiamo notare anche nel seguente grafico."
   ]
  },
  {
   "cell_type": "code",
   "execution_count": 584,
   "metadata": {
    "scrolled": true
   },
   "outputs": [
    {
     "data": {
      "image/png": "[encoded data removed]",
      "text/plain": [
       "<Figure size 936x360 with 1 Axes>"
      ]
     },
     "metadata": {
      "needs_background": "light"
     },
     "output_type": "display_data"
    }
   ],
   "source": [
    "plt.figure(figsize=(13,5))\n",
    "plt.bar(ccountry.index, ccountry);\n",
    "plt.title(\"Percentuale di cancellazioni per nazione\")\n",
    "plt.xlabel(\"Nazioni\")\n",
    "plt.ylabel(\"Percentuale di cancellazioni\");"
   ]
  },
  {
   "cell_type": "markdown",
   "metadata": {},
   "source": [
    "- Come possiamo notare dai grafici _'Percentuale di cancellazioni per nazione'_ e _'Percentuale di cancellazioni per mese'_  le percentuali delle nazioni sono molto più variabili delle percentuali dei mesi.\n",
    "- Possiamo verificare questa intuizione calcolando la deviazione stardad delle due serie."
   ]
  },
  {
   "cell_type": "code",
   "execution_count": 585,
   "metadata": {},
   "outputs": [
    {
     "data": {
      "text/plain": [
       "0.038098025716024234"
      ]
     },
     "execution_count": 585,
     "metadata": {},
     "output_type": "execute_result"
    }
   ],
   "source": [
    "cmonths.std()"
   ]
  },
  {
   "cell_type": "code",
   "execution_count": 586,
   "metadata": {},
   "outputs": [
    {
     "data": {
      "text/plain": [
       "0.10468863918729307"
      ]
     },
     "execution_count": 586,
     "metadata": {},
     "output_type": "execute_result"
    }
   ],
   "source": [
    "ccountry.std()"
   ]
  },
  {
   "cell_type": "markdown",
   "metadata": {},
   "source": [
    "- Come si può notare la varianza rispetto ai paesi è più di tre volte di quella rispetto al mese\n",
    "- Questo dato si può usare per valutare l'importanza di prendere in considerazione una feature piuttosto che l'altra.\n",
    "- Entrambe le feature non sono di tipo numerico quindi per poterle utilizzare si devono creare tante colonne quanti sono i valori distinti della variabile e per ogni cella registrare un valore binario che indica se l'instanza ha quel valore della feature originale. \n",
    "- Secondo il ragionamento fatto in questa Analisi Dati deduciamo intuitivamente che sarebbe più furbo prendere in considerazione tramite questo metodo la variabile _country_ rispetto a _arrival_date_month_ dato che le cancellazioni sembrano variare di conseguenza, quindi dipendervi, in maggior misura."
   ]
  },
  {
   "cell_type": "markdown",
   "metadata": {},
   "source": [
    "## Selezione delle feature\n",
    "- Innanzitutto valutiamo quali delle feature non possono essere utilizzate nella predizione in quanto contengono dati che non sono presenti al momento della prenotazione\n",
    "    - Eliminiamo anche _bookings_changes_ e _days_in_waiting_list_ perchè supponiamo di voler predirre la possibile cancellazione appena la prenotazione viene inoltrata dal cliente "
   ]
  },
  {
   "cell_type": "code",
   "execution_count": 587,
   "metadata": {},
   "outputs": [],
   "source": [
    "hbookings = hbookings.drop(columns = [\"adr\", \"assigned_room_type\", \"reservation_status\", \"reservation_status_date\", \"days_in_waiting_list\", \"booking_changes\"])"
   ]
  },
  {
   "cell_type": "markdown",
   "metadata": {},
   "source": [
    "- Sostituiamo i valori mancanti (NaN) di tipo numerico con 0 e quelli di tipo oggetto (ovvero le stringhe) con \"missing\"."
   ]
  },
  {
   "cell_type": "code",
   "execution_count": 588,
   "metadata": {},
   "outputs": [],
   "source": [
    "for col in hbookings:\n",
    "    dt = hbookings[col].dtype \n",
    "    if dt == int or dt == float:\n",
    "        hbookings[col].fillna(0, inplace=True)\n",
    "    else:\n",
    "        hbookings[col].fillna(\"missing\", inplace=True)"
   ]
  },
  {
   "cell_type": "markdown",
   "metadata": {},
   "source": [
    "- A questo punto possiamo definire il gruppo di feature che useremo (X) e la feature che invece siamo interessati a predire (y)."
   ]
  },
  {
   "cell_type": "code",
   "execution_count": 589,
   "metadata": {},
   "outputs": [],
   "source": [
    "X = hbookings.drop(columns = 'is_canceled');\n",
    "y = hbookings['is_canceled'];"
   ]
  },
  {
   "cell_type": "markdown",
   "metadata": {},
   "source": [
    "### Feature Numeriche\n",
    "- Selezioniamo inizialmente solo le colonne numeriche e creiamone una copia.\n",
    "    - Eliminiamo momentaneamente le colonne numeriche _agent_ e _company_ perchè rappresentano dei codici, quindi in realtà sono categoriche.\n",
    "- Ho deciso di aggiungere momentaneamente una colonna con il numero totale di notti del soggiorno _stays_in_nights_ per testare le correlazioni."
   ]
  },
  {
   "cell_type": "code",
   "execution_count": 590,
   "metadata": {
    "scrolled": false
   },
   "outputs": [
    {
     "data": {
      "text/html": [
       "<div>\n",
       "<style scoped>\n",
       "    .dataframe tbody tr th:only-of-type {\n",
       "        vertical-align: middle;\n",
       "    }\n",
       "\n",
       "    .dataframe tbody tr th {\n",
       "        vertical-align: top;\n",
       "    }\n",
       "\n",
       "    .dataframe thead th {\n",
       "        text-align: right;\n",
       "    }\n",
       "</style>\n",
       "<table border=\"1\" class=\"dataframe\">\n",
       "  <thead>\n",
       "    <tr style=\"text-align: right;\">\n",
       "      <th></th>\n",
       "      <th>lead_time</th>\n",
       "      <th>arrival_date_year</th>\n",
       "      <th>arrival_date_week_number</th>\n",
       "      <th>arrival_date_day_of_month</th>\n",
       "      <th>stays_in_weekend_nights</th>\n",
       "      <th>stays_in_week_nights</th>\n",
       "      <th>adults</th>\n",
       "      <th>children</th>\n",
       "      <th>babies</th>\n",
       "      <th>is_repeated_guest</th>\n",
       "      <th>previous_cancellations</th>\n",
       "      <th>previous_bookings_not_canceled</th>\n",
       "      <th>required_car_parking_spaces</th>\n",
       "      <th>total_of_special_requests</th>\n",
       "      <th>stays_in_nights</th>\n",
       "    </tr>\n",
       "  </thead>\n",
       "  <tbody>\n",
       "    <tr>\n",
       "      <td>0</td>\n",
       "      <td>342</td>\n",
       "      <td>2015</td>\n",
       "      <td>27</td>\n",
       "      <td>1</td>\n",
       "      <td>0</td>\n",
       "      <td>0</td>\n",
       "      <td>2</td>\n",
       "      <td>0.0</td>\n",
       "      <td>0</td>\n",
       "      <td>0</td>\n",
       "      <td>0</td>\n",
       "      <td>0</td>\n",
       "      <td>0</td>\n",
       "      <td>0</td>\n",
       "      <td>0</td>\n",
       "    </tr>\n",
       "    <tr>\n",
       "      <td>1</td>\n",
       "      <td>737</td>\n",
       "      <td>2015</td>\n",
       "      <td>27</td>\n",
       "      <td>1</td>\n",
       "      <td>0</td>\n",
       "      <td>0</td>\n",
       "      <td>2</td>\n",
       "      <td>0.0</td>\n",
       "      <td>0</td>\n",
       "      <td>0</td>\n",
       "      <td>0</td>\n",
       "      <td>0</td>\n",
       "      <td>0</td>\n",
       "      <td>0</td>\n",
       "      <td>0</td>\n",
       "    </tr>\n",
       "    <tr>\n",
       "      <td>2</td>\n",
       "      <td>7</td>\n",
       "      <td>2015</td>\n",
       "      <td>27</td>\n",
       "      <td>1</td>\n",
       "      <td>0</td>\n",
       "      <td>1</td>\n",
       "      <td>1</td>\n",
       "      <td>0.0</td>\n",
       "      <td>0</td>\n",
       "      <td>0</td>\n",
       "      <td>0</td>\n",
       "      <td>0</td>\n",
       "      <td>0</td>\n",
       "      <td>0</td>\n",
       "      <td>1</td>\n",
       "    </tr>\n",
       "    <tr>\n",
       "      <td>3</td>\n",
       "      <td>13</td>\n",
       "      <td>2015</td>\n",
       "      <td>27</td>\n",
       "      <td>1</td>\n",
       "      <td>0</td>\n",
       "      <td>1</td>\n",
       "      <td>1</td>\n",
       "      <td>0.0</td>\n",
       "      <td>0</td>\n",
       "      <td>0</td>\n",
       "      <td>0</td>\n",
       "      <td>0</td>\n",
       "      <td>0</td>\n",
       "      <td>0</td>\n",
       "      <td>1</td>\n",
       "    </tr>\n",
       "    <tr>\n",
       "      <td>4</td>\n",
       "      <td>14</td>\n",
       "      <td>2015</td>\n",
       "      <td>27</td>\n",
       "      <td>1</td>\n",
       "      <td>0</td>\n",
       "      <td>2</td>\n",
       "      <td>2</td>\n",
       "      <td>0.0</td>\n",
       "      <td>0</td>\n",
       "      <td>0</td>\n",
       "      <td>0</td>\n",
       "      <td>0</td>\n",
       "      <td>0</td>\n",
       "      <td>1</td>\n",
       "      <td>2</td>\n",
       "    </tr>\n",
       "  </tbody>\n",
       "</table>\n",
       "</div>"
      ],
      "text/plain": [
       "   lead_time  arrival_date_year  arrival_date_week_number  \\\n",
       "0        342               2015                        27   \n",
       "1        737               2015                        27   \n",
       "2          7               2015                        27   \n",
       "3         13               2015                        27   \n",
       "4         14               2015                        27   \n",
       "\n",
       "   arrival_date_day_of_month  stays_in_weekend_nights  stays_in_week_nights  \\\n",
       "0                          1                        0                     0   \n",
       "1                          1                        0                     0   \n",
       "2                          1                        0                     1   \n",
       "3                          1                        0                     1   \n",
       "4                          1                        0                     2   \n",
       "\n",
       "   adults  children  babies  is_repeated_guest  previous_cancellations  \\\n",
       "0       2       0.0       0                  0                       0   \n",
       "1       2       0.0       0                  0                       0   \n",
       "2       1       0.0       0                  0                       0   \n",
       "3       1       0.0       0                  0                       0   \n",
       "4       2       0.0       0                  0                       0   \n",
       "\n",
       "   previous_bookings_not_canceled  required_car_parking_spaces  \\\n",
       "0                               0                            0   \n",
       "1                               0                            0   \n",
       "2                               0                            0   \n",
       "3                               0                            0   \n",
       "4                               0                            0   \n",
       "\n",
       "   total_of_special_requests  stays_in_nights  \n",
       "0                          0                0  \n",
       "1                          0                0  \n",
       "2                          0                1  \n",
       "3                          0                1  \n",
       "4                          1                2  "
      ]
     },
     "execution_count": 590,
     "metadata": {},
     "output_type": "execute_result"
    }
   ],
   "source": [
    "hbnum = hbookings.select_dtypes(['number']).copy()\n",
    "hbnum = hbnum.drop(columns=['agent', 'company'])\n",
    "hbnum = hbnum.assign(stays_in_nights = hbnum['stays_in_week_nights'] + hbnum['stays_in_weekend_nights'])\n",
    "Xnum = hbnum.drop(columns = 'is_canceled');\n",
    "pd.set_option('display.max_columns', None)\n",
    "Xnum.head(5)"
   ]
  },
  {
   "cell_type": "markdown",
   "metadata": {},
   "source": [
    "- Usando variabili numeriche, possiamo provare ad individuare la correlazione di una variabile con la variabile da predirre _is_canceled_ attraverso un'istogramma _stacked_ che ci mostra, per ogni valore della variabile, quante sono state le prenotazioni cancellate e in quanti casi è stato realmente effettuato il soggiorno.\n",
    "    - Ad esempio possiamo graficare l'istogramma stacked in base alla settimana di arrivo durante l'anno, creando 12 bins per visualizzare le prenotazioni in ogni mese e in che porzione sono state cancellate."
   ]
  },
  {
   "cell_type": "code",
   "execution_count": 591,
   "metadata": {},
   "outputs": [
    {
     "data": {
      "image/png": "[encoded data removed]",
      "text/plain": [
       "<Figure size 936x360 with 1 Axes>"
      ]
     },
     "metadata": {
      "needs_background": "light"
     },
     "output_type": "display_data"
    }
   ],
   "source": [
    "hbnum.pivot(columns=\"is_canceled\")[\"arrival_date_week_number\"].plot.hist(bins=12, stacked=True, figsize=(13,5));\n",
    "plt.title(\"Prenotazioni cancellate in base al periodo dell'anno\")\n",
    "plt.xlabel(\"arrival_date_week_number\");"
   ]
  },
  {
   "cell_type": "markdown",
   "metadata": {},
   "source": [
    "- Usando due variabili numeriche, ad esempio la nuova colonna _stays_in_nights_ e _lead_time_ possiamo investigare sulla loro correlazione in funzione della cancellazione visualizzando un grafico a dispersione di quali sono le prenotazioni cancellate rispetto a queste variabili"
   ]
  },
  {
   "cell_type": "code",
   "execution_count": 592,
   "metadata": {
    "scrolled": false
   },
   "outputs": [
    {
     "data": {
      "image/png": "[encoded data removed]",
      "text/plain": [
       "<Figure size 1080x720 with 1 Axes>"
      ]
     },
     "metadata": {
      "needs_background": "light"
     },
     "output_type": "display_data"
    }
   ],
   "source": [
    "color_map = {0: \"blue\", 1: \"red\"}\n",
    "canceled_colors = hbnum[\"is_canceled\"].map(color_map)\n",
    "plt.figure(figsize=(15,10))\n",
    "plt.scatter(hbnum[\"stays_in_nights\"], hbnum[\"lead_time\"], c=canceled_colors, alpha=0.20);\n",
    "plt.title(\"Correlazione fra lead_time e stays_in_nights\")\n",
    "plt.xlabel(\"stays_in_nights\")\n",
    "plt.ylabel(\"lead_time\");"
   ]
  },
  {
   "cell_type": "markdown",
   "metadata": {},
   "source": [
    "- Dal grafico possiamo notare che la maggior parte delle cancellazioni si verificano con un numero abbastanza alto di notti prenotate (più di 10) o su prenotazioni effettuate e da parecchio tempo (più di un anno), anche se la parziale sovrapposizione dei punti di diverso colore rende difficile giudicare adeguatamente il grafico.\n",
    "- Inoltre possiamo notare che le due variabili non sono molto correlate dato che non si può evidenziare un comportamento lineare.\n",
    "- Possiamo rimuovere le colonna _stays_in_nights_."
   ]
  },
  {
   "cell_type": "code",
   "execution_count": 593,
   "metadata": {},
   "outputs": [],
   "source": [
    "hbnum = hbnum.drop(columns = 'stays_in_nights');"
   ]
  },
  {
   "cell_type": "markdown",
   "metadata": {},
   "source": [
    "### Rilevanza delle Feature Numeriche\n",
    "- Usando la Regressione Lasso, possiamo evidenziare quali sono le feature numeriche più importanti.\n",
    "- Applichiamo anche la Standardizzazione per uniformare maggiormente le variabili."
   ]
  },
  {
   "cell_type": "code",
   "execution_count": 594,
   "metadata": {
    "scrolled": true
   },
   "outputs": [
    {
     "data": {
      "text/plain": [
       "lead_time                         0.098528\n",
       "arrival_date_year                 0.000000\n",
       "arrival_date_week_number         -0.000000\n",
       "arrival_date_day_of_month        -0.000000\n",
       "stays_in_weekend_nights          -0.000000\n",
       "stays_in_week_nights             -0.000000\n",
       "adults                            0.000000\n",
       "children                          0.000000\n",
       "babies                           -0.000000\n",
       "is_repeated_guest                -0.000000\n",
       "previous_cancellations            0.010476\n",
       "previous_bookings_not_canceled   -0.000000\n",
       "required_car_parking_spaces      -0.046999\n",
       "total_of_special_requests        -0.069500\n",
       "stays_in_nights                  -0.000000\n",
       "dtype: float64"
      ]
     },
     "execution_count": 594,
     "metadata": {},
     "output_type": "execute_result"
    }
   ],
   "source": [
    "from sklearn.preprocessing import StandardScaler\n",
    "from sklearn.pipeline import Pipeline\n",
    "from sklearn.linear_model import Lasso\n",
    "model = Pipeline([\n",
    "    (\"scale\", StandardScaler()),\n",
    "    (\"regr\", Lasso(alpha=0.03))\n",
    "])\n",
    "ynum = hbnum['is_canceled'];\n",
    "model.fit(Xnum, ynum)\n",
    "pd.Series(model.named_steps[\"regr\"].coef_, Xnum.columns)"
   ]
  },
  {
   "cell_type": "markdown",
   "metadata": {},
   "source": [
    "- Possiamo notare che feature più rilevanti sono _lead_time, previous_cancellations, required_car_parking_spaces_ e _total_of_special_requests_"
   ]
  },
  {
   "cell_type": "markdown",
   "metadata": {},
   "source": [
    "### Feature categoriche\n",
    "- Usiamo il filtro `OneHotEncoder` messo a disposizione da scikit-learn per prendere in considerazione anche le feature categoriche oltre a quelle numeriche."
   ]
  },
  {
   "cell_type": "code",
   "execution_count": 595,
   "metadata": {},
   "outputs": [],
   "source": [
    "from sklearn.preprocessing import OneHotEncoder\n",
    "ohe = OneHotEncoder(categories=\"auto\", sparse=False)\n",
    "categorical_cols = [\"agent\", \"company\", \"hotel\", \"arrival_date_month\", \"meal\", \"country\", \"market_segment\", \"distribution_channel\", \"reserved_room_type\", \"deposit_type\", \"customer_type\"]\n",
    "Xcat = ohe.fit_transform(X[categorical_cols])"
   ]
  },
  {
   "cell_type": "code",
   "execution_count": 596,
   "metadata": {},
   "outputs": [],
   "source": [
    "X = np.hstack([Xnum.values, Xcat])"
   ]
  },
  {
   "cell_type": "markdown",
   "metadata": {},
   "source": [
    "# Classificazione Lineare\n",
    "- Per risolvere il problema dobbiamo predire a quale classe (cancellata/non cancellata) una qualsiasi istanza appartiene, quindi dobbiamo risolvere un problema di classificazione.\n",
    "- Cerchiamo dunque di trovare una modello di classificazione lineare.\n",
    "- Innazitutto dividiamo il nostro Dataset in Training set e Validation set."
   ]
  },
  {
   "cell_type": "code",
   "execution_count": 597,
   "metadata": {},
   "outputs": [],
   "source": [
    "from sklearn.model_selection import train_test_split\n",
    "X_train, X_val, y_train, y_val = train_test_split(\n",
    "    X, y,           # dati da suddividere\n",
    "    test_size=1/3,    # proporzione: 2/3 training, 1/3 validation\n",
    "    random_state=42   # seed per la riproducibilità\n",
    ")"
   ]
  },
  {
   "cell_type": "markdown",
   "metadata": {},
   "source": [
    "## Regressione Logistica\n",
    "- Proviamo inizialmente ad utilizzare una Regressione Logistica classica, senza Regolarizzazione nè Standardizzazione."
   ]
  },
  {
   "cell_type": "code",
   "execution_count": 598,
   "metadata": {
    "scrolled": true
   },
   "outputs": [
    {
     "data": {
      "text/plain": [
       "0.7378445611478253"
      ]
     },
     "execution_count": 598,
     "metadata": {},
     "output_type": "execute_result"
    }
   ],
   "source": [
    "from sklearn.linear_model import LogisticRegression\n",
    "model = LogisticRegression(solver=\"saga\", random_state=42)\n",
    "model.fit(X_train, y_train)\n",
    "model.score(X_val, y_val)"
   ]
  },
  {
   "cell_type": "markdown",
   "metadata": {},
   "source": [
    "- Notiamo che l'accuratezza sul Validation set è del 73% circa.\n",
    "- Per avere maggiori informazioni possiamo visualizzare la matrice di confusione sul Validation set e valutare la Recall del modello."
   ]
  },
  {
   "cell_type": "code",
   "execution_count": 599,
   "metadata": {},
   "outputs": [
    {
     "data": {
      "text/html": [
       "<div>\n",
       "<style scoped>\n",
       "    .dataframe tbody tr th:only-of-type {\n",
       "        vertical-align: middle;\n",
       "    }\n",
       "\n",
       "    .dataframe tbody tr th {\n",
       "        vertical-align: top;\n",
       "    }\n",
       "\n",
       "    .dataframe thead th {\n",
       "        text-align: right;\n",
       "    }\n",
       "</style>\n",
       "<table border=\"1\" class=\"dataframe\">\n",
       "  <thead>\n",
       "    <tr style=\"text-align: right;\">\n",
       "      <th></th>\n",
       "      <th>not_canceled</th>\n",
       "      <th>canceled</th>\n",
       "    </tr>\n",
       "  </thead>\n",
       "  <tbody>\n",
       "    <tr>\n",
       "      <td>not_canceled</td>\n",
       "      <td>23434</td>\n",
       "      <td>1573</td>\n",
       "    </tr>\n",
       "    <tr>\n",
       "      <td>canceled</td>\n",
       "      <td>8860</td>\n",
       "      <td>5930</td>\n",
       "    </tr>\n",
       "  </tbody>\n",
       "</table>\n",
       "</div>"
      ],
      "text/plain": [
       "              not_canceled  canceled\n",
       "not_canceled         23434      1573\n",
       "canceled              8860      5930"
      ]
     },
     "execution_count": 599,
     "metadata": {},
     "output_type": "execute_result"
    }
   ],
   "source": [
    "from sklearn.metrics import confusion_matrix\n",
    "y_pred = model.predict(X_val)\n",
    "cm = confusion_matrix(y_val, y_pred)\n",
    "cm_dataframe = pd.DataFrame(cm, index=['not_canceled', 'canceled'], columns=['not_canceled', 'canceled']) \n",
    "cm_dataframe"
   ]
  },
  {
   "cell_type": "code",
   "execution_count": 600,
   "metadata": {},
   "outputs": [
    {
     "data": {
      "text/plain": [
       "0.9370976126684528"
      ]
     },
     "execution_count": 600,
     "metadata": {},
     "output_type": "execute_result"
    }
   ],
   "source": [
    "from sklearn.metrics import precision_score, recall_score, f1_score\n",
    "recall_score(y_val, y_pred, pos_label=0)"
   ]
  },
  {
   "cell_type": "code",
   "execution_count": 601,
   "metadata": {},
   "outputs": [
    {
     "data": {
      "text/plain": [
       "0.400946585530764"
      ]
     },
     "execution_count": 601,
     "metadata": {},
     "output_type": "execute_result"
    }
   ],
   "source": [
    "recall_score(y_val, y_pred, pos_label=1)"
   ]
  },
  {
   "cell_type": "markdown",
   "metadata": {},
   "source": [
    "- Notiamo che delle prenotazioni non cancellate il 94% è stato individuato correttamente (23429 prenotazioni), mentre delle prenotazioni cancellate (la classe meno numerosa) solo il 40% è stato predetto correttamente (5931 prenotazioni).\n",
    "    - Nel caso della prenotazione cancellata la predizione è peggiore di quella casuale.\n",
    "- Calcoliamo anche la F1 measure che valuta sommariamente sia Recall che Precision."
   ]
  },
  {
   "cell_type": "code",
   "execution_count": 602,
   "metadata": {},
   "outputs": [
    {
     "data": {
      "text/plain": [
       "0.5320055622841251"
      ]
     },
     "execution_count": 602,
     "metadata": {},
     "output_type": "execute_result"
    }
   ],
   "source": [
    "f1_score(y_val, y_pred)"
   ]
  },
  {
   "cell_type": "markdown",
   "metadata": {},
   "source": [
    "- Otteniamo una F1 measure del 53%. \n",
    "\n",
    "### Selezione delle feature più rilevanti\n",
    "- Un primo problema con questo approccio è che l'addestramento del modello, seppur molto semplice, è stato abbastanza lento.\n",
    "- Prima di provare ad applicare altri modelli di addestramento, individuiamo le feature più rilevanti attraverso la Regressione Lasso ed eliminiamo tutte le altre.\n",
    "- Con un alpha=0.006 otteniamo le 71 feature diverse da 0 più rilevanti della matrice X."
   ]
  },
  {
   "cell_type": "code",
   "execution_count": 603,
   "metadata": {},
   "outputs": [],
   "source": [
    "model = Pipeline([\n",
    "    (\"scale\", StandardScaler()),\n",
    "    (\"regr\", Lasso(alpha=0.006))\n",
    "])\n",
    "model.fit(X, y)\n",
    "feature_rel = model.named_steps[\"regr\"].coef_\n",
    "labels = np.hstack([Xnum.columns, ohe.get_feature_names()])\n",
    "sel_features = pd.Series(feature_rel, labels)\n",
    "sel_features = sel_features[sel_features != 0]\n",
    "X = X[:,  np.where(feature_rel == 0, False, True)]"
   ]
  },
  {
   "cell_type": "markdown",
   "metadata": {},
   "source": [
    "- Rifacciamo lo split del Data set in Training set e Validation set.\n",
    "    - Ho eseguito due split successivi e tenuto da parte 1/3 dei dati come Test set per poterlo utilizzare sia per i modelli allenati su questo split di Traning set / Validation Set che nello split che farò in seguito con le classi bilanciate."
   ]
  },
  {
   "cell_type": "code",
   "execution_count": 604,
   "metadata": {},
   "outputs": [],
   "source": [
    "from sklearn.model_selection import train_test_split\n",
    "\n",
    "X_trainval, X_test, y_trainval, y_test = train_test_split(\n",
    "    X, y,           # dati da suddividere\n",
    "    test_size=1/10,    # proporzione: 2/3 training e validation, 1/3 test (confronto fra modelli)\n",
    "    random_state=41   # seed per la riproducibilità\n",
    ")\n",
    "\n",
    "X_train, X_val, y_train, y_val = train_test_split(\n",
    "    X_trainval, y_trainval,           # dati da suddividere\n",
    "    test_size=1/3,    # proporzione: 2/3 training, 1/3 validation\n",
    "    random_state=42   # seed per la riproducibilità\n",
    ")"
   ]
  },
  {
   "cell_type": "markdown",
   "metadata": {},
   "source": [
    "- Proviamo a usare la Regressione Logistica su questa versione ridotta della matrice X."
   ]
  },
  {
   "cell_type": "code",
   "execution_count": 605,
   "metadata": {
    "scrolled": true
   },
   "outputs": [
    {
     "data": {
      "text/plain": [
       "0.7241254153055812"
      ]
     },
     "execution_count": 605,
     "metadata": {},
     "output_type": "execute_result"
    }
   ],
   "source": [
    "from sklearn.linear_model import LogisticRegression\n",
    "model = LogisticRegression(solver=\"saga\", random_state=42)\n",
    "model.fit(X_train, y_train)\n",
    "model.score(X_val, y_val)"
   ]
  },
  {
   "cell_type": "code",
   "execution_count": 606,
   "metadata": {},
   "outputs": [
    {
     "data": {
      "text/plain": [
       "0.5008839723190383"
      ]
     },
     "execution_count": 606,
     "metadata": {},
     "output_type": "execute_result"
    }
   ],
   "source": [
    "y_pred = model.predict(X_val)\n",
    "f1_score(y_val, y_pred)"
   ]
  },
  {
   "cell_type": "markdown",
   "metadata": {},
   "source": [
    "- F1 measure e score sono abbastanza vicini a quelli ottenuti addestrando il modello con più di 750 feature."
   ]
  },
  {
   "cell_type": "markdown",
   "metadata": {},
   "source": [
    "### Standardizzazione e Regolarizzazione\n",
    "- Proviamo a usare la Standardizzazione ed una Regolarizzazione tipo L2, ad esempio con un iperparametro C=0.1"
   ]
  },
  {
   "cell_type": "code",
   "execution_count": 607,
   "metadata": {},
   "outputs": [
    {
     "data": {
      "text/plain": [
       "0.8214255800318284"
      ]
     },
     "execution_count": 607,
     "metadata": {},
     "output_type": "execute_result"
    }
   ],
   "source": [
    "model_L2 = Pipeline([\n",
    "    (\"scale\", StandardScaler()),\n",
    "    (\"regr\", LogisticRegression(solver=\"saga\", random_state=42, C=0.1))\n",
    "])\n",
    "model_L2.fit(X_train, y_train)\n",
    "model_L2.score(X_val,y_val)"
   ]
  },
  {
   "cell_type": "code",
   "execution_count": 608,
   "metadata": {},
   "outputs": [
    {
     "data": {
      "text/plain": [
       "0.737546163315552"
      ]
     },
     "execution_count": 608,
     "metadata": {},
     "output_type": "execute_result"
    }
   ],
   "source": [
    "y_pred = model_L2.predict(X_val)\n",
    "f1_score(y_val, y_pred)"
   ]
  },
  {
   "cell_type": "markdown",
   "metadata": {},
   "source": [
    "- Notiamo un netto miglioramento nello score di questo modello.\n",
    "- Proviamo a usare anche una Regolarizzazione L1 mantenendo lo stesso C."
   ]
  },
  {
   "cell_type": "code",
   "execution_count": 609,
   "metadata": {
    "scrolled": true
   },
   "outputs": [
    {
     "data": {
      "text/plain": [
       "0.8211743027054192"
      ]
     },
     "execution_count": 609,
     "metadata": {},
     "output_type": "execute_result"
    }
   ],
   "source": [
    "model_L1 = Pipeline([\n",
    "    (\"scale\", StandardScaler()),\n",
    "    (\"regr\", LogisticRegression(solver=\"saga\", random_state=42, C=0.1, penalty=\"l1\"))\n",
    "])\n",
    "model_L1.fit(X_train, y_train)\n",
    "model_L1.score(X_val,y_val)"
   ]
  },
  {
   "cell_type": "code",
   "execution_count": 610,
   "metadata": {},
   "outputs": [
    {
     "data": {
      "text/plain": [
       "0.7370365808597118"
      ]
     },
     "execution_count": 610,
     "metadata": {},
     "output_type": "execute_result"
    }
   ],
   "source": [
    "y_pred = model_L1.predict(X_val)\n",
    "f1_score(y_val, y_pred)"
   ]
  },
  {
   "cell_type": "markdown",
   "metadata": {},
   "source": [
    "- Il punteggio è molto simile a quello della Regolarizzazione precedente.\n",
    "- Tentiamo con una Regolarizzazione Elastic Net sbilanciata a favore L2, con lo stesso C."
   ]
  },
  {
   "cell_type": "code",
   "execution_count": 611,
   "metadata": {},
   "outputs": [
    {
     "data": {
      "text/plain": [
       "0.737546163315552"
      ]
     },
     "execution_count": 611,
     "metadata": {},
     "output_type": "execute_result"
    }
   ],
   "source": [
    "model_net = Pipeline([\n",
    "    (\"scale\", StandardScaler()),\n",
    "    (\"regr\", LogisticRegression(solver=\"saga\", random_state=42, C=0.1, penalty=\"elasticnet\", l1_ratio=0.2))\n",
    "])\n",
    "model_net.fit(X_train, y_train)\n",
    "y_pred = model_net.predict(X_val)\n",
    "f1_score(y_val, y_pred)"
   ]
  },
  {
   "cell_type": "code",
   "execution_count": 612,
   "metadata": {},
   "outputs": [
    {
     "data": {
      "text/plain": [
       "0.8214255800318284"
      ]
     },
     "execution_count": 612,
     "metadata": {},
     "output_type": "execute_result"
    }
   ],
   "source": [
    "model_net.score(X_val,y_val)"
   ]
  },
  {
   "cell_type": "markdown",
   "metadata": {},
   "source": [
    "- Anche questo punteggio non si scosta dagli altri.\n",
    "- Possiamo calcolare i reali intervalli di accuratezza dei modelli creati con un confidenza predefinita del 95% usando le funzioni `conf_interval` e `model_conf_interval`."
   ]
  },
  {
   "cell_type": "code",
   "execution_count": 613,
   "metadata": {},
   "outputs": [],
   "source": [
    "def conf_interval(a, N, Z=1.96):\n",
    "    c = (2 * N * a + Z**2) / (2 * (N + Z**2))\n",
    "    d = Z * np.sqrt(Z**2 + 4*N*a - 4*N*a**2) / (2 * (N + Z**2))\n",
    "    return c - d, c + d\n",
    "\n",
    "from scipy.stats import norm\n",
    "def model_conf_interval(model, X, y, level=0.95):\n",
    "    a = model.score(X, y);\n",
    "    N = X.shape[0];\n",
    "    Z = norm.ppf((level +1)/2);\n",
    "    return conf_interval(a, N, Z);"
   ]
  },
  {
   "cell_type": "code",
   "execution_count": 614,
   "metadata": {},
   "outputs": [
    {
     "data": {
      "text/plain": [
       "(0.719472789006999, 0.7287299707873705)"
      ]
     },
     "execution_count": 614,
     "metadata": {},
     "output_type": "execute_result"
    }
   ],
   "source": [
    "model_conf_interval(model, X_val, y_val, 0.95)"
   ]
  },
  {
   "cell_type": "code",
   "execution_count": 615,
   "metadata": {},
   "outputs": [
    {
     "data": {
      "text/plain": [
       "(0.817424766449376, 0.8253574536854952)"
      ]
     },
     "execution_count": 615,
     "metadata": {},
     "output_type": "execute_result"
    }
   ],
   "source": [
    "model_conf_interval(model_L2, X_val, y_val, 0.95)"
   ]
  },
  {
   "cell_type": "code",
   "execution_count": 616,
   "metadata": {},
   "outputs": [
    {
     "data": {
      "text/plain": [
       "(0.8171713340036365, 0.825108385372823)"
      ]
     },
     "execution_count": 616,
     "metadata": {},
     "output_type": "execute_result"
    }
   ],
   "source": [
    "model_conf_interval(model_L1, X_val, y_val, 0.95)"
   ]
  },
  {
   "cell_type": "code",
   "execution_count": 617,
   "metadata": {},
   "outputs": [
    {
     "data": {
      "text/plain": [
       "(0.817424766449376, 0.8253574536854952)"
      ]
     },
     "execution_count": 617,
     "metadata": {},
     "output_type": "execute_result"
    }
   ],
   "source": [
    "model_conf_interval(model_net, X_val, y_val, 0.95)"
   ]
  },
  {
   "cell_type": "markdown",
   "metadata": {},
   "source": [
    "- Dato l'elevato numero di istanze nel Dataset, il Test set (Validation set in questo caso) è molto ampio, ciò ci permette di produrre degli intervalli di accuratezza dall'ampiezzza ridotta.\n",
    "- Possiamo anche direttamente confrontare due di questi modelli per verificare l'uno sia effettivamente migliore dell'altro avendo ottenuto uno score migliore usando le funzioni `diff_interval` e `model_diff_val`.\n",
    "- Prendiamo ad esempio __model_L1__ e __model_L2__ ed una confidenza del 95%."
   ]
  },
  {
   "cell_type": "code",
   "execution_count": 618,
   "metadata": {},
   "outputs": [],
   "source": [
    "def diff_interval(a1, a2, N1, N2, Z):\n",
    "    var = (a1 * (1 - a1))/N1 + (a2 * (1 - a2))/N2\n",
    "    diff = abs(a1-a2)\n",
    "    Zvar = Z * np.sqrt(var)\n",
    "    return diff + Zvar, diff - Zvar\n",
    "\n",
    "def model_diff_val(m1, m2, X, y, level=0.95):\n",
    "    a1 = m1.score(X, y);\n",
    "    a2 = m2.score(X, y);\n",
    "    N = len(X)\n",
    "    Z = norm.ppf((level +1)/2);\n",
    "    return diff_interval(a1, a2, N, N, Z)"
   ]
  },
  {
   "cell_type": "code",
   "execution_count": 619,
   "metadata": {},
   "outputs": [
    {
     "data": {
      "text/plain": [
       "(0.00986399355947682, -0.009696475341870632)"
      ]
     },
     "execution_count": 619,
     "metadata": {},
     "output_type": "execute_result"
    }
   ],
   "source": [
    "model_diff_val(model_L1, model_L2, X_test, y_test, 0.95)"
   ]
  },
  {
   "cell_type": "markdown",
   "metadata": {},
   "source": [
    "- Dato che l'intervallo contiene lo zero, i due modelli possono essere considerati equivalenti con una confidenza così alta."
   ]
  },
  {
   "cell_type": "code",
   "execution_count": 620,
   "metadata": {
    "scrolled": true
   },
   "outputs": [
    {
     "data": {
      "text/plain": [
       "(0.004283455148085147, -0.004115936930478958)"
      ]
     },
     "execution_count": 620,
     "metadata": {},
     "output_type": "execute_result"
    }
   ],
   "source": [
    "model_diff_val(model_L1, model_L2, X_test, y_test, 0.60)"
   ]
  },
  {
   "cell_type": "markdown",
   "metadata": {},
   "source": [
    "- Anche usando una confidenza molto più bassa, non riusciamo a trovare un intervallo che non contiene lo 0 in quanto i due modelli hanno accuratezze molto simili e rimangono equivalenti.\n",
    "    - Ciò significa che usare una certa Regolarizzazione rispetto a un'altra su questo Data set non è sinificativo.\n",
    "- Proviamo invece a confrontare il modello senza Regolarizzazione e quello con Regolarizzazione L2 con confidenza del 99%."
   ]
  },
  {
   "cell_type": "code",
   "execution_count": 621,
   "metadata": {
    "scrolled": true
   },
   "outputs": [
    {
     "data": {
      "text/plain": [
       "(0.10062021338962615, 0.07292866005036044)"
      ]
     },
     "execution_count": 621,
     "metadata": {},
     "output_type": "execute_result"
    }
   ],
   "source": [
    "model_diff_val(model, model_L2, X_test, y_test, 0.99)"
   ]
  },
  {
   "cell_type": "markdown",
   "metadata": {},
   "source": [
    "- In questo caso lo 0 non appare nell'intervallo dato che il modello con Standardizzazione e Regolarizzazione è evidentemente meglio di quello senza."
   ]
  },
  {
   "cell_type": "markdown",
   "metadata": {},
   "source": [
    "## Cross-validation e Grid Search"
   ]
  },
  {
   "cell_type": "markdown",
   "metadata": {},
   "source": [
    "- Per trovare il modello con gli iperparametri migliori possiamo fare uso di meccanismi come la **Cross-validation** e la **Grid Search**.\n",
    "- Eseguiamo la Cross-Validation solamente sui 2/3 del Data set iniziale in modo da mantenere un Test set con 1/3 di Data set che il modello non ha mai valutato per poterne giudicare l'intervallo di accuratezza effettivo. \n",
    "- Usiamo la StratifiedFold in modo che in ogni fold ci siano le stesse porzioni di ciascuna classe."
   ]
  },
  {
   "cell_type": "code",
   "execution_count": 622,
   "metadata": {},
   "outputs": [
    {
     "name": "stdout",
     "output_type": "stream",
     "text": [
      "0    14988\n",
      "1     8891\n",
      "Name: is_canceled, dtype: int64\n",
      "0    14988\n",
      "1     8890\n",
      "Name: is_canceled, dtype: int64\n",
      "0    14987\n",
      "1     8890\n",
      "Name: is_canceled, dtype: int64\n"
     ]
    }
   ],
   "source": [
    "from sklearn.model_selection import StratifiedKFold\n",
    "skf = StratifiedKFold(3, shuffle=True, random_state=42)\n",
    "for train, val in skf.split(X_train, y_train):\n",
    "    print(y_train.iloc[val].value_counts())"
   ]
  },
  {
   "cell_type": "markdown",
   "metadata": {},
   "source": [
    "- Per testare varie combinazioni di iperparametri e selezionare quella che sembra più accurata, usiamo una GridSearch.\n",
    "- Questa operazione richiede un po' di tempo."
   ]
  },
  {
   "cell_type": "code",
   "execution_count": 623,
   "metadata": {
    "scrolled": true
   },
   "outputs": [
    {
     "data": {
      "text/plain": [
       "{'regr__penalty': 'none',\n",
       " 'scale': StandardScaler(copy=True, with_mean=True, with_std=True)}"
      ]
     },
     "execution_count": 623,
     "metadata": {},
     "output_type": "execute_result"
    }
   ],
   "source": [
    "from sklearn.model_selection import GridSearchCV\n",
    "grid = [\n",
    "    {\n",
    "        \"scale\":[StandardScaler(), None],\n",
    "        \"regr__penalty\": [\"none\"],\n",
    "    },\n",
    "    {\n",
    "        \"scale\":[StandardScaler(), None],\n",
    "        \"regr__penalty\": [\"l2\", \"l1\"],\n",
    "        \"regr__C\": [0.01, 0.1, 1]\n",
    "    },\n",
    "    {\n",
    "        \"scale\":[StandardScaler(), None],\n",
    "        \"regr__penalty\": [\"elasticnet\"],\n",
    "        \"regr__C\": [0.01, 0.1, 1],\n",
    "        \"regr__l1_ratio\": [0.2, 0.5]\n",
    "    }\n",
    "]\n",
    "model_grid = Pipeline([\n",
    "    (\"scale\", None),\n",
    "    (\"regr\", LogisticRegression(solver=\"saga\", random_state=42))\n",
    "])\n",
    "gs = GridSearchCV(model_grid, grid, cv=skf)\n",
    "gs.fit(X_train, y_train);\n",
    "gs.best_params_"
   ]
  },
  {
   "cell_type": "markdown",
   "metadata": {},
   "source": [
    "- Notiamo che la soluzione migliore non fa uso di Regolarizzazione, solo di Standardizzazione.\n",
    "\n",
    "- Valutiamo la F1 Measure del modello."
   ]
  },
  {
   "cell_type": "code",
   "execution_count": 624,
   "metadata": {},
   "outputs": [
    {
     "data": {
      "text/plain": [
       "0.7375677006400787"
      ]
     },
     "execution_count": 624,
     "metadata": {},
     "output_type": "execute_result"
    }
   ],
   "source": [
    "y_pred = gs.predict(X_val)\n",
    "f1_score(y_val, y_pred)"
   ]
  },
  {
   "cell_type": "markdown",
   "metadata": {},
   "source": [
    "- Valutiamo l'accuratezza del modello."
   ]
  },
  {
   "cell_type": "code",
   "execution_count": 625,
   "metadata": {},
   "outputs": [
    {
     "data": {
      "text/plain": [
       "0.8214255800318284"
      ]
     },
     "execution_count": 625,
     "metadata": {},
     "output_type": "execute_result"
    }
   ],
   "source": [
    "gs.score(X_val, y_val)"
   ]
  },
  {
   "cell_type": "markdown",
   "metadata": {},
   "source": [
    "- Valutiamo l'intervallo di accuratezza del modello con confidenza del 95%."
   ]
  },
  {
   "cell_type": "code",
   "execution_count": 626,
   "metadata": {},
   "outputs": [
    {
     "data": {
      "text/plain": [
       "(0.817424766449376, 0.8253574536854952)"
      ]
     },
     "execution_count": 626,
     "metadata": {},
     "output_type": "execute_result"
    }
   ],
   "source": [
    "model_conf_interval(gs, X_val, y_val, 0.95)"
   ]
  },
  {
   "cell_type": "markdown",
   "metadata": {},
   "source": [
    "- Confrontiamo infine con confidenza del 95% il modello ottenuto con uno dei modelli calcolati in precedenza, ad esempio **model_net** con StandardScaler, C=0.1 e l1_ratio = 0.2"
   ]
  },
  {
   "cell_type": "code",
   "execution_count": 627,
   "metadata": {
    "scrolled": false
   },
   "outputs": [
    {
     "data": {
      "text/plain": [
       "(0.010028000620175568, -0.009525445967357002)"
      ]
     },
     "execution_count": 627,
     "metadata": {},
     "output_type": "execute_result"
    }
   ],
   "source": [
    "model_diff_val(gs, model_net, X_test, y_test, 0.95)"
   ]
  },
  {
   "cell_type": "markdown",
   "metadata": {},
   "source": [
    "- La confidenza contiene lo 0 quindi i due modelli possono essere considerati equivalenti.\n",
    "- Proviamo con una confidenza molto più bassa."
   ]
  },
  {
   "cell_type": "code",
   "execution_count": 628,
   "metadata": {},
   "outputs": [
    {
     "data": {
      "text/plain": [
       "(0.004913210384473535, -0.0044106557316549696)"
      ]
     },
     "execution_count": 628,
     "metadata": {},
     "output_type": "execute_result"
    }
   ],
   "source": [
    "model_diff_val(gs, model_net, X_test, y_test, 0.65)"
   ]
  },
  {
   "cell_type": "markdown",
   "metadata": {},
   "source": [
    "- Anche abbassando di molto la confideza la situazione non cambia, quindi la Grid Search non è stata particolarmente utile.\n",
    "- Guardiamo la matrice di confusione del modello migliore ottenuto con la Grid Search."
   ]
  },
  {
   "cell_type": "code",
   "execution_count": 629,
   "metadata": {
    "scrolled": true
   },
   "outputs": [
    {
     "data": {
      "text/html": [
       "<div>\n",
       "<style scoped>\n",
       "    .dataframe tbody tr th:only-of-type {\n",
       "        vertical-align: middle;\n",
       "    }\n",
       "\n",
       "    .dataframe tbody tr th {\n",
       "        vertical-align: top;\n",
       "    }\n",
       "\n",
       "    .dataframe thead th {\n",
       "        text-align: right;\n",
       "    }\n",
       "</style>\n",
       "<table border=\"1\" class=\"dataframe\">\n",
       "  <thead>\n",
       "    <tr style=\"text-align: right;\">\n",
       "      <th></th>\n",
       "      <th>not_canceled</th>\n",
       "      <th>canceled</th>\n",
       "    </tr>\n",
       "  </thead>\n",
       "  <tbody>\n",
       "    <tr>\n",
       "      <td>not_canceled</td>\n",
       "      <td>20433</td>\n",
       "      <td>2138</td>\n",
       "    </tr>\n",
       "    <tr>\n",
       "      <td>canceled</td>\n",
       "      <td>4258</td>\n",
       "      <td>8988</td>\n",
       "    </tr>\n",
       "  </tbody>\n",
       "</table>\n",
       "</div>"
      ],
      "text/plain": [
       "              not_canceled  canceled\n",
       "not_canceled         20433      2138\n",
       "canceled              4258      8988"
      ]
     },
     "execution_count": 629,
     "metadata": {},
     "output_type": "execute_result"
    }
   ],
   "source": [
    "cm = confusion_matrix(y_val, y_pred)\n",
    "pd.DataFrame(cm, index=['not_canceled', 'canceled'], columns=['not_canceled', 'canceled']) "
   ]
  },
  {
   "cell_type": "markdown",
   "metadata": {},
   "source": [
    "- Possiamo notare che le istanze di classe _not_canceled_ sono classificate abbastanza bene mentre la classificazione di quelle di classe _canceled_ è decisamente più incorretta.\n",
    "\n",
    "## Bilanciamento delle istanze per classe\n",
    "- Per dare più importanza alle istanza di classe 1, facciamo **UNDERSAMPLIG** di tale classe usando un set di addestamento che contiene lo stesso numero di istanze di classe _not_canceled_ e _canceled_.\n",
    "    - Nella lista y _not_canceled_ è rappresentato da 0 e _canceled_ da 1."
   ]
  },
  {
   "cell_type": "code",
   "execution_count": 630,
   "metadata": {
    "scrolled": true
   },
   "outputs": [],
   "source": [
    "canceled_size = y_trainval.value_counts()[1]\n",
    "y_trainvalar = np.array(y_trainval)\n",
    "tomantain = np.ones(X_trainval.shape[0], dtype=bool)\n",
    "notcanceled = 0;\n",
    "for i, item in enumerate(X_trainval):\n",
    "    if (y_trainvalar[i] == 0):\n",
    "        notcanceled = notcanceled + 1\n",
    "    if (notcanceled > canceled_size and y_trainvalar[i] == 0):\n",
    "        tomantain[i] = False"
   ]
  },
  {
   "cell_type": "code",
   "execution_count": 631,
   "metadata": {},
   "outputs": [],
   "source": [
    "X_trainvalsq = X_trainval[tomantain, :]\n",
    "y_trainvalsq = y_trainval[tomantain]"
   ]
  },
  {
   "cell_type": "markdown",
   "metadata": {},
   "source": [
    "- Verifichiamo che la matrice ottenuta abbia effettivamente il doppio delle istanze rispetto alla quantità di prenotazioni che sono state cancellate nel Data set preso in considerazione."
   ]
  },
  {
   "cell_type": "code",
   "execution_count": 632,
   "metadata": {},
   "outputs": [
    {
     "data": {
      "text/plain": [
       "39917"
      ]
     },
     "execution_count": 632,
     "metadata": {},
     "output_type": "execute_result"
    }
   ],
   "source": [
    "canceled_size"
   ]
  },
  {
   "cell_type": "code",
   "execution_count": 633,
   "metadata": {
    "scrolled": true
   },
   "outputs": [
    {
     "data": {
      "text/plain": [
       "(79834, 71)"
      ]
     },
     "execution_count": 633,
     "metadata": {},
     "output_type": "execute_result"
    }
   ],
   "source": [
    "X_trainvalsq.shape"
   ]
  },
  {
   "cell_type": "code",
   "execution_count": 634,
   "metadata": {},
   "outputs": [
    {
     "data": {
      "text/plain": [
       "True"
      ]
     },
     "execution_count": 634,
     "metadata": {},
     "output_type": "execute_result"
    }
   ],
   "source": [
    "canceled_size * 2 == X_trainvalsq.shape[0]"
   ]
  },
  {
   "cell_type": "markdown",
   "metadata": {},
   "source": [
    "- Proviamo a ripetere una Regressione Logistica con Standardizzazione e Regolarizzazione su questa matrice e visualizziamone la matrice di confusione per vedere se cambia. "
   ]
  },
  {
   "cell_type": "code",
   "execution_count": 635,
   "metadata": {
    "scrolled": true
   },
   "outputs": [
    {
     "data": {
      "text/plain": [
       "0.8179392755148054"
      ]
     },
     "execution_count": 635,
     "metadata": {},
     "output_type": "execute_result"
    }
   ],
   "source": [
    "Xsq_train, Xsq_val, ysq_train, ysq_val = train_test_split(\n",
    "    X_trainvalsq, y_trainvalsq,           # dati da suddividere\n",
    "    test_size=1/3,    # proporzione: 2/3 training, 1/3 validation\n",
    "    random_state=42   # seed per la riproducibilità\n",
    ")\n",
    "modelsq_net = Pipeline([\n",
    "    (\"scale\", StandardScaler()),\n",
    "    (\"regr\", LogisticRegression(solver=\"saga\", random_state=42, C=0.1, penalty=\"elasticnet\", l1_ratio=0.5))\n",
    "])\n",
    "modelsq_net.fit(Xsq_train, ysq_train)\n",
    "modelsq_net.score(Xsq_val, ysq_val)"
   ]
  },
  {
   "cell_type": "code",
   "execution_count": 636,
   "metadata": {},
   "outputs": [
    {
     "data": {
      "text/html": [
       "<div>\n",
       "<style scoped>\n",
       "    .dataframe tbody tr th:only-of-type {\n",
       "        vertical-align: middle;\n",
       "    }\n",
       "\n",
       "    .dataframe tbody tr th {\n",
       "        vertical-align: top;\n",
       "    }\n",
       "\n",
       "    .dataframe thead th {\n",
       "        text-align: right;\n",
       "    }\n",
       "</style>\n",
       "<table border=\"1\" class=\"dataframe\">\n",
       "  <thead>\n",
       "    <tr style=\"text-align: right;\">\n",
       "      <th></th>\n",
       "      <th>not_canceled</th>\n",
       "      <th>canceled</th>\n",
       "    </tr>\n",
       "  </thead>\n",
       "  <tbody>\n",
       "    <tr>\n",
       "      <td>not_canceled</td>\n",
       "      <td>11006</td>\n",
       "      <td>2321</td>\n",
       "    </tr>\n",
       "    <tr>\n",
       "      <td>canceled</td>\n",
       "      <td>2524</td>\n",
       "      <td>10761</td>\n",
       "    </tr>\n",
       "  </tbody>\n",
       "</table>\n",
       "</div>"
      ],
      "text/plain": [
       "              not_canceled  canceled\n",
       "not_canceled         11006      2321\n",
       "canceled              2524     10761"
      ]
     },
     "execution_count": 636,
     "metadata": {},
     "output_type": "execute_result"
    }
   ],
   "source": [
    "y_pred = modelsq_net.predict(Xsq_val)\n",
    "cm = confusion_matrix(ysq_val, y_pred)\n",
    "pd.DataFrame(cm, index=['not_canceled', 'canceled'], columns=['not_canceled', 'canceled']) "
   ]
  },
  {
   "cell_type": "code",
   "execution_count": 637,
   "metadata": {},
   "outputs": [
    {
     "data": {
      "text/plain": [
       "0.816247582205029"
      ]
     },
     "execution_count": 637,
     "metadata": {},
     "output_type": "execute_result"
    }
   ],
   "source": [
    "f1_score(ysq_val, y_pred)"
   ]
  },
  {
   "cell_type": "markdown",
   "metadata": {},
   "source": [
    "- L'accuratezza si è leggermente abbassata pur rimanendo molto simile a quella ottenuta in precedenza.\n",
    "- La F1 Measure è decisamente aumentata, infatti come possiamo notare dalla matrice di confusione la classificazione delle prenotazioni canceled è molto più sensata rispetto al modello addestrato su Dataset sbilanciato, dove la distribuzione di questa classe era casuale.\n",
    "- Proviamo ad effettuare una Grid Search con Cross-Validation su questo Dataset modificato per ottenere gli iperparametri migliori.\n",
    "- Anche questa operazione richiede un po' di tempo."
   ]
  },
  {
   "cell_type": "code",
   "execution_count": 638,
   "metadata": {
    "scrolled": true
   },
   "outputs": [
    {
     "data": {
      "text/plain": [
       "{'regr__C': 0.1,\n",
       " 'regr__l1_ratio': 0.8,\n",
       " 'regr__penalty': 'elasticnet',\n",
       " 'scale': StandardScaler(copy=True, with_mean=True, with_std=True)}"
      ]
     },
     "execution_count": 638,
     "metadata": {},
     "output_type": "execute_result"
    }
   ],
   "source": [
    "skf_sq = StratifiedKFold(3, shuffle=True, random_state=42)\n",
    "grid = [\n",
    "    {\n",
    "        \"scale\":[StandardScaler(), None],\n",
    "        \"regr__penalty\": [\"none\"],\n",
    "    },\n",
    "    {\n",
    "        \"scale\":[StandardScaler(), None],\n",
    "        \"regr__penalty\": [\"l2\", \"l1\"],\n",
    "        \"regr__C\": [0.01, 0.1, 1, 10]\n",
    "    },\n",
    "    {\n",
    "        \"scale\":[StandardScaler(), None],\n",
    "        \"regr__penalty\": [\"elasticnet\"],\n",
    "        \"regr__C\": [0.01, 0.1, 1, 10],\n",
    "        \"regr__l1_ratio\": [0.2, 0.5, 0.8]\n",
    "    }\n",
    "]\n",
    "model_grid = Pipeline([\n",
    "    (\"scale\", None),\n",
    "    (\"regr\", LogisticRegression(solver=\"saga\", random_state=42))\n",
    "])\n",
    "gs_sq = GridSearchCV(model_grid, grid, cv=skf_sq)\n",
    "gs_sq.fit(Xsq_train, ysq_train);\n",
    "gs_sq.best_params_"
   ]
  },
  {
   "cell_type": "code",
   "execution_count": 639,
   "metadata": {},
   "outputs": [
    {
     "data": {
      "text/plain": [
       "0.8179392755148054"
      ]
     },
     "execution_count": 639,
     "metadata": {},
     "output_type": "execute_result"
    }
   ],
   "source": [
    "gs_sq.score(Xsq_val, ysq_val)"
   ]
  },
  {
   "cell_type": "code",
   "execution_count": 640,
   "metadata": {},
   "outputs": [
    {
     "data": {
      "text/plain": [
       "0.816247582205029"
      ]
     },
     "execution_count": 640,
     "metadata": {},
     "output_type": "execute_result"
    }
   ],
   "source": [
    "ysq_pred = gs_sq.predict(Xsq_val)\n",
    "f1_score(ysq_val, ysq_pred)"
   ]
  },
  {
   "cell_type": "markdown",
   "metadata": {},
   "source": [
    "- L'accuratezza e l'F1 measure sono simili a quelli calcolati in precedenza quindi non eravamo lontati dalla combinazione di iperparametri migliore.\n",
    "- Valutiamo il ranking dei vari modelli in base alla diverse combinazioni di iperparametri."
   ]
  },
  {
   "cell_type": "code",
   "execution_count": 641,
   "metadata": {},
   "outputs": [
    {
     "data": {
      "text/html": [
       "<div>\n",
       "<style scoped>\n",
       "    .dataframe tbody tr th:only-of-type {\n",
       "        vertical-align: middle;\n",
       "    }\n",
       "\n",
       "    .dataframe tbody tr th {\n",
       "        vertical-align: top;\n",
       "    }\n",
       "\n",
       "    .dataframe thead th {\n",
       "        text-align: right;\n",
       "    }\n",
       "</style>\n",
       "<table border=\"1\" class=\"dataframe\">\n",
       "  <thead>\n",
       "    <tr style=\"text-align: right;\">\n",
       "      <th></th>\n",
       "      <th>mean_fit_time</th>\n",
       "      <th>std_fit_time</th>\n",
       "      <th>mean_score_time</th>\n",
       "      <th>std_score_time</th>\n",
       "      <th>param_regr__penalty</th>\n",
       "      <th>param_scale</th>\n",
       "      <th>param_regr__C</th>\n",
       "      <th>param_regr__l1_ratio</th>\n",
       "      <th>params</th>\n",
       "      <th>split0_test_score</th>\n",
       "      <th>split1_test_score</th>\n",
       "      <th>split2_test_score</th>\n",
       "      <th>mean_test_score</th>\n",
       "      <th>std_test_score</th>\n",
       "      <th>rank_test_score</th>\n",
       "    </tr>\n",
       "  </thead>\n",
       "  <tbody>\n",
       "    <tr>\n",
       "      <td>28</td>\n",
       "      <td>4.923075</td>\n",
       "      <td>0.393211</td>\n",
       "      <td>0.014730</td>\n",
       "      <td>0.002500</td>\n",
       "      <td>elasticnet</td>\n",
       "      <td>StandardScaler(copy=True, with_mean=True, with...</td>\n",
       "      <td>0.1</td>\n",
       "      <td>0.8</td>\n",
       "      <td>{'regr__C': 0.1, 'regr__l1_ratio': 0.8, 'regr_...</td>\n",
       "      <td>0.816199</td>\n",
       "      <td>0.818320</td>\n",
       "      <td>0.812176</td>\n",
       "      <td>0.815565</td>\n",
       "      <td>0.002548</td>\n",
       "      <td>1</td>\n",
       "    </tr>\n",
       "    <tr>\n",
       "      <td>8</td>\n",
       "      <td>4.109151</td>\n",
       "      <td>0.242678</td>\n",
       "      <td>0.013602</td>\n",
       "      <td>0.001897</td>\n",
       "      <td>l1</td>\n",
       "      <td>StandardScaler(copy=True, with_mean=True, with...</td>\n",
       "      <td>0.1</td>\n",
       "      <td>NaN</td>\n",
       "      <td>{'regr__C': 0.1, 'regr__penalty': 'l1', 'scale...</td>\n",
       "      <td>0.816255</td>\n",
       "      <td>0.818207</td>\n",
       "      <td>0.811950</td>\n",
       "      <td>0.815471</td>\n",
       "      <td>0.002614</td>\n",
       "      <td>2</td>\n",
       "    </tr>\n",
       "    <tr>\n",
       "      <td>26</td>\n",
       "      <td>5.315175</td>\n",
       "      <td>1.042057</td>\n",
       "      <td>0.012996</td>\n",
       "      <td>0.001074</td>\n",
       "      <td>elasticnet</td>\n",
       "      <td>StandardScaler(copy=True, with_mean=True, with...</td>\n",
       "      <td>0.1</td>\n",
       "      <td>0.5</td>\n",
       "      <td>{'regr__C': 0.1, 'regr__l1_ratio': 0.5, 'regr_...</td>\n",
       "      <td>0.816312</td>\n",
       "      <td>0.818151</td>\n",
       "      <td>0.811950</td>\n",
       "      <td>0.815471</td>\n",
       "      <td>0.002600</td>\n",
       "      <td>2</td>\n",
       "    </tr>\n",
       "    <tr>\n",
       "      <td>12</td>\n",
       "      <td>4.230663</td>\n",
       "      <td>0.165954</td>\n",
       "      <td>0.013212</td>\n",
       "      <td>0.001304</td>\n",
       "      <td>l1</td>\n",
       "      <td>StandardScaler(copy=True, with_mean=True, with...</td>\n",
       "      <td>1</td>\n",
       "      <td>NaN</td>\n",
       "      <td>{'regr__C': 1, 'regr__penalty': 'l1', 'scale':...</td>\n",
       "      <td>0.816030</td>\n",
       "      <td>0.817982</td>\n",
       "      <td>0.811894</td>\n",
       "      <td>0.815302</td>\n",
       "      <td>0.002538</td>\n",
       "      <td>4</td>\n",
       "    </tr>\n",
       "    <tr>\n",
       "      <td>14</td>\n",
       "      <td>3.629595</td>\n",
       "      <td>0.087023</td>\n",
       "      <td>0.012071</td>\n",
       "      <td>0.000052</td>\n",
       "      <td>l2</td>\n",
       "      <td>StandardScaler(copy=True, with_mean=True, with...</td>\n",
       "      <td>10</td>\n",
       "      <td>NaN</td>\n",
       "      <td>{'regr__C': 10, 'regr__penalty': 'l2', 'scale'...</td>\n",
       "      <td>0.816142</td>\n",
       "      <td>0.817982</td>\n",
       "      <td>0.811725</td>\n",
       "      <td>0.815283</td>\n",
       "      <td>0.002626</td>\n",
       "      <td>5</td>\n",
       "    </tr>\n",
       "  </tbody>\n",
       "</table>\n",
       "</div>"
      ],
      "text/plain": [
       "    mean_fit_time  std_fit_time  mean_score_time  std_score_time  \\\n",
       "28       4.923075      0.393211         0.014730        0.002500   \n",
       "8        4.109151      0.242678         0.013602        0.001897   \n",
       "26       5.315175      1.042057         0.012996        0.001074   \n",
       "12       4.230663      0.165954         0.013212        0.001304   \n",
       "14       3.629595      0.087023         0.012071        0.000052   \n",
       "\n",
       "   param_regr__penalty                                        param_scale  \\\n",
       "28          elasticnet  StandardScaler(copy=True, with_mean=True, with...   \n",
       "8                   l1  StandardScaler(copy=True, with_mean=True, with...   \n",
       "26          elasticnet  StandardScaler(copy=True, with_mean=True, with...   \n",
       "12                  l1  StandardScaler(copy=True, with_mean=True, with...   \n",
       "14                  l2  StandardScaler(copy=True, with_mean=True, with...   \n",
       "\n",
       "   param_regr__C param_regr__l1_ratio  \\\n",
       "28           0.1                  0.8   \n",
       "8            0.1                  NaN   \n",
       "26           0.1                  0.5   \n",
       "12             1                  NaN   \n",
       "14            10                  NaN   \n",
       "\n",
       "                                               params  split0_test_score  \\\n",
       "28  {'regr__C': 0.1, 'regr__l1_ratio': 0.8, 'regr_...           0.816199   \n",
       "8   {'regr__C': 0.1, 'regr__penalty': 'l1', 'scale...           0.816255   \n",
       "26  {'regr__C': 0.1, 'regr__l1_ratio': 0.5, 'regr_...           0.816312   \n",
       "12  {'regr__C': 1, 'regr__penalty': 'l1', 'scale':...           0.816030   \n",
       "14  {'regr__C': 10, 'regr__penalty': 'l2', 'scale'...           0.816142   \n",
       "\n",
       "    split1_test_score  split2_test_score  mean_test_score  std_test_score  \\\n",
       "28           0.818320           0.812176         0.815565        0.002548   \n",
       "8            0.818207           0.811950         0.815471        0.002614   \n",
       "26           0.818151           0.811950         0.815471        0.002600   \n",
       "12           0.817982           0.811894         0.815302        0.002538   \n",
       "14           0.817982           0.811725         0.815283        0.002626   \n",
       "\n",
       "    rank_test_score  \n",
       "28                1  \n",
       "8                 2  \n",
       "26                2  \n",
       "12                4  \n",
       "14                5  "
      ]
     },
     "execution_count": 641,
     "metadata": {},
     "output_type": "execute_result"
    }
   ],
   "source": [
    "pd.DataFrame(gs_sq.cv_results_).sort_values(\"rank_test_score\").head(5)"
   ]
  },
  {
   "cell_type": "markdown",
   "metadata": {},
   "source": [
    "- Calcoliamo l'intervallo di accuratezza della soluzioni migliori con confidenza del 95%."
   ]
  },
  {
   "cell_type": "code",
   "execution_count": 642,
   "metadata": {},
   "outputs": [
    {
     "data": {
      "text/plain": [
       "(0.8132571258515837, 0.8225296489599982)"
      ]
     },
     "execution_count": 642,
     "metadata": {},
     "output_type": "execute_result"
    }
   ],
   "source": [
    "model_conf_interval(gs_sq, Xsq_val, ysq_val, 0.95)"
   ]
  },
  {
   "cell_type": "code",
   "execution_count": 643,
   "metadata": {},
   "outputs": [],
   "source": [
    "model_2ndbest = Pipeline([\n",
    "    (\"scale\", StandardScaler()),\n",
    "    (\"regr\", LogisticRegression(solver=\"saga\", random_state=42, penalty=\"l1\", C=1))\n",
    "])\n",
    "model_2ndbest.fit(Xsq_train, ysq_train);"
   ]
  },
  {
   "cell_type": "code",
   "execution_count": 644,
   "metadata": {},
   "outputs": [
    {
     "data": {
      "text/plain": [
       "(0.8131812390387321, 0.8224552493351212)"
      ]
     },
     "execution_count": 644,
     "metadata": {},
     "output_type": "execute_result"
    }
   ],
   "source": [
    "model_conf_interval(model_2ndbest, Xsq_val, ysq_val, 0.95)"
   ]
  },
  {
   "cell_type": "code",
   "execution_count": 645,
   "metadata": {
    "scrolled": true
   },
   "outputs": [],
   "source": [
    "model_3tdbest = Pipeline([\n",
    "    (\"scale\", StandardScaler()),\n",
    "    (\"regr\", LogisticRegression(solver=\"saga\", random_state=42, penalty=\"elasticnet\", l1_ratio=0.2, C=1))\n",
    "])\n",
    "model_3tdbest.fit(Xsq_train, ysq_train);"
   ]
  },
  {
   "cell_type": "code",
   "execution_count": 646,
   "metadata": {
    "scrolled": true
   },
   "outputs": [
    {
     "data": {
      "text/plain": [
       "(0.8132191824082775, 0.8224924491844401)"
      ]
     },
     "execution_count": 646,
     "metadata": {},
     "output_type": "execute_result"
    }
   ],
   "source": [
    "model_conf_interval(model_3tdbest, Xsq_val, ysq_val, 0.95)"
   ]
  },
  {
   "cell_type": "markdown",
   "metadata": {},
   "source": [
    "- Valutiamo se tali modelli possono essere considerati equivalenti con confidenza al 95%."
   ]
  },
  {
   "cell_type": "code",
   "execution_count": 647,
   "metadata": {},
   "outputs": [
    {
     "data": {
      "text/plain": [
       "(0.010218307134997138, -0.009548234264572606)"
      ]
     },
     "execution_count": 647,
     "metadata": {},
     "output_type": "execute_result"
    }
   ],
   "source": [
    "model_diff_val(gs_sq, model_2ndbest, X_test, y_test, 0.95)"
   ]
  },
  {
   "cell_type": "code",
   "execution_count": 648,
   "metadata": {},
   "outputs": [
    {
     "data": {
      "text/plain": [
       "(0.010218307134997138, -0.009548234264572606)"
      ]
     },
     "execution_count": 648,
     "metadata": {},
     "output_type": "execute_result"
    }
   ],
   "source": [
    "model_diff_val(gs_sq, model_3tdbest, X_test, y_test, 0.95)"
   ]
  },
  {
   "cell_type": "markdown",
   "metadata": {},
   "source": [
    "- I tre modelli con ranking più alto sono effettivamente equivalenti se usiamo una confidenza del 95%.\n",
    "- Proviamo a confrontare anche **gs_sq** e **gs**, quindi il modello con classi bilanciate e quello con classi sbilanciate.\n",
    "    - Il set di dati su cui viene testato è stato estratto all'inizio dell'analisi quindi le sue classi non sono bilanciate ma probabilmente seguono l'andamento generale del Dataset, ovvero con un numero di instanze di classe _not_canceled_ maggiore."
   ]
  },
  {
   "cell_type": "code",
   "execution_count": 649,
   "metadata": {},
   "outputs": [
    {
     "data": {
      "text/plain": [
       "(0.011534909196703337, -0.0013162979227271743)"
      ]
     },
     "execution_count": 649,
     "metadata": {},
     "output_type": "execute_result"
    }
   ],
   "source": [
    "model_diff_val(gs_sq, gs, X_test, y_test, 0.80)"
   ]
  },
  {
   "cell_type": "markdown",
   "metadata": {},
   "source": [
    "- Notiamo che i due modelli non si differenziano nemmeno con un affidabilità del 80%.\n",
    "- Ricordiamo però che tale misura prende in considerazione solamente l'accuratezza, non la F1 measure che nel modello a classi sblianciate è più alta ed è quella che fa la differenza fra i due modelli.\n",
    "    - Proviamo a calcolare l'equivalenza dei due modelli con confidenza del 99% basandoci sulla F1 measure invece che sullo score."
   ]
  },
  {
   "cell_type": "code",
   "execution_count": 650,
   "metadata": {},
   "outputs": [],
   "source": [
    "def model_diff_val_F1(m1, m2, X, y, level=0.95):\n",
    "    y_pred1 = m1.predict(X)\n",
    "    a1 = f1_score(y, y_pred1)\n",
    "    y_pred2 = m2.predict(X)\n",
    "    a2 = f1_score(y, y_pred2)\n",
    "    N = len(X)\n",
    "    Z = norm.ppf((level +1)/2);\n",
    "    return diff_interval(a1, a2, N, N, Z)"
   ]
  },
  {
   "cell_type": "code",
   "execution_count": 651,
   "metadata": {
    "scrolled": true
   },
   "outputs": [
    {
     "data": {
      "text/plain": [
       "(0.0392610485742939, 0.010192612808129567)"
      ]
     },
     "execution_count": 651,
     "metadata": {},
     "output_type": "execute_result"
    }
   ],
   "source": [
    "model_diff_val_F1(gs_sq, gs, X_test, y_test, 0.99)"
   ]
  },
  {
   "cell_type": "markdown",
   "metadata": {},
   "source": [
    "- Come possiamo notare rispetto alla F1 measure il modello **gs_sq** è migliore con affidabilità del 99%."
   ]
  },
  {
   "cell_type": "markdown",
   "metadata": {},
   "source": [
    "# Classificazione Non Lineare\n",
    "- Anche se l'accuratezza non vicina è al 50% (classificazione totalmente casuale), il modello più adatto potrebbe non essere quello lineare.\n",
    "- Proviamo a usare la Classificazione non lineare sul Training Set bilanciato per provare ad ottenere un'accuratezza migliore con affidabilità del 95%.\n",
    "- Usiamo _PolynomialFeatures_ per aggiungere delle variabili a quelle già presenti."
   ]
  },
  {
   "cell_type": "code",
   "execution_count": 652,
   "metadata": {
    "scrolled": true
   },
   "outputs": [
    {
     "data": {
      "text/plain": [
       "0.675447166691718"
      ]
     },
     "execution_count": 652,
     "metadata": {},
     "output_type": "execute_result"
    }
   ],
   "source": [
    "from sklearn.preprocessing import PolynomialFeatures\n",
    "model_deg2 = Pipeline([\n",
    "    (\"poly\", PolynomialFeatures(degree=2, include_bias=False)),\n",
    "    (\"regr\", LogisticRegression(solver=\"saga\", random_state=42))\n",
    "])\n",
    "model_deg2.fit(Xsq_train, ysq_train)\n",
    "model_deg2.score(Xsq_val, ysq_val)"
   ]
  },
  {
   "cell_type": "markdown",
   "metadata": {},
   "source": [
    "- L'accuratezza si è decisamente abbassata quindi probabilmente la classificazione non è di secondo grado, inoltre il tempo di addestramento è abbastanza lungo. \n",
    "- Proviamo ad utilizzare un altro metodo.\n",
    "\n",
    "## Multi-Layer Perceptron\n",
    "- Usiamo Multi-Layer Perceptron che ci permette di aggiungere uno o più strati di _h_ feature in cui modellare diversamente le nostre ossservazioni prima di giungere all'output finale.\n",
    "- Usiamo la funzione di attivazione **ReLu**."
   ]
  },
  {
   "cell_type": "code",
   "execution_count": 653,
   "metadata": {},
   "outputs": [
    {
     "data": {
      "text/plain": [
       "0.7463926048399219"
      ]
     },
     "execution_count": 653,
     "metadata": {},
     "output_type": "execute_result"
    }
   ],
   "source": [
    "from sklearn.neural_network import MLPClassifier\n",
    "modelMLP = MLPClassifier(hidden_layer_sizes=4, activation=\"relu\")\n",
    "modelMLP.fit(Xsq_train, ysq_train)\n",
    "modelMLP.score(Xsq_val, ysq_val)"
   ]
  },
  {
   "cell_type": "code",
   "execution_count": 654,
   "metadata": {},
   "outputs": [
    {
     "data": {
      "text/plain": [
       "0.7918966421016929"
      ]
     },
     "execution_count": 654,
     "metadata": {},
     "output_type": "execute_result"
    }
   ],
   "source": [
    "y_pred = modelMLP.predict(Xsq_val)\n",
    "f1_score(ysq_val, y_pred)"
   ]
  },
  {
   "cell_type": "markdown",
   "metadata": {},
   "source": [
    "- Sia l'F1 measure che lo score sono più alti rispetto al modello **gs_sq**.\n",
    "- Verifichiamo che tale informazione sia statisticamente significativa con un'affidabilità del 95%."
   ]
  },
  {
   "cell_type": "code",
   "execution_count": 655,
   "metadata": {},
   "outputs": [
    {
     "data": {
      "text/plain": [
       "(0.14222288232145458, 0.12044568288501162)"
      ]
     },
     "execution_count": 655,
     "metadata": {},
     "output_type": "execute_result"
    }
   ],
   "source": [
    "model_diff_val(gs_sq, modelMLP, X_test, y_test, 0.95)"
   ]
  },
  {
   "cell_type": "markdown",
   "metadata": {},
   "source": [
    "- Il modello **modelMLP** è effettivamente migliore.\n",
    "- Proviamo a usare Grid Search modificando anche il parametro _batch_size_ per verificare se esiste una soluzione MLP migliore di quella lineare con un'affidabilità abbastanza alta.\n",
    "- Questa Grid Search richiede un tempo molto lungo.\n",
    "    - Dato il tempo di addestramento già lungo ho scelto di non inserire come iperparametro da variare anche _max_iter_."
   ]
  },
  {
   "cell_type": "code",
   "execution_count": 656,
   "metadata": {},
   "outputs": [
    {
     "data": {
      "text/plain": [
       "{'mlp__batch_size': 50, 'mlp__hidden_layer_sizes': (8, 16)}"
      ]
     },
     "execution_count": 656,
     "metadata": {},
     "output_type": "execute_result"
    }
   ],
   "source": [
    "model = Pipeline([\n",
    "    (\"scaler\", StandardScaler()),\n",
    "    (\"mlp\", MLPClassifier(activation=\"relu\"))\n",
    "])\n",
    "grid = {\n",
    "    \"mlp__hidden_layer_sizes\": [4, 8, (4, 8), (8, 16)],\n",
    "    \"mlp__batch_size\":[50, 100, 200],\n",
    "}\n",
    "MLPgs = GridSearchCV(model, grid, cv=skf_sq)\n",
    "MLPgs.fit(Xsq_train, ysq_train);\n",
    "MLPgs.best_params_"
   ]
  },
  {
   "cell_type": "code",
   "execution_count": 657,
   "metadata": {},
   "outputs": [
    {
     "data": {
      "text/plain": [
       "0.847925747782955"
      ]
     },
     "execution_count": 657,
     "metadata": {},
     "output_type": "execute_result"
    }
   ],
   "source": [
    "MLPgs.score(Xsq_val, ysq_val)"
   ]
  },
  {
   "cell_type": "code",
   "execution_count": 658,
   "metadata": {},
   "outputs": [
    {
     "data": {
      "text/plain": [
       "0.8476222749350504"
      ]
     },
     "execution_count": 658,
     "metadata": {},
     "output_type": "execute_result"
    }
   ],
   "source": [
    "y_pred = MLPgs.predict(Xsq_val)\n",
    "f1_score(ysq_val, y_pred)"
   ]
  },
  {
   "cell_type": "markdown",
   "metadata": {},
   "source": [
    "- F1 Measure e score sono entrambi migliori rispetto sia al modello MLP provato in precedenza che a quello trovato con Regressione Lineare.\n",
    "- Controlliamo che queste differenze siano statisticamente significative con affidabilità del 95%."
   ]
  },
  {
   "cell_type": "code",
   "execution_count": 659,
   "metadata": {},
   "outputs": [
    {
     "data": {
      "text/plain": [
       "(0.17125043762650924, 0.1500495037421147)"
      ]
     },
     "execution_count": 659,
     "metadata": {},
     "output_type": "execute_result"
    }
   ],
   "source": [
    "model_diff_val(modelMLP, MLPgs, X_test, y_test, 0.95)"
   ]
  },
  {
   "cell_type": "markdown",
   "metadata": {},
   "source": [
    "- Dato che negli intervalli non è presente lo 0, possiamo dichiarare che **MLPgs** è il modello migliore fra quelli addestrati finora."
   ]
  },
  {
   "cell_type": "markdown",
   "metadata": {},
   "source": [
    "## Reti Neurali con Keras\n",
    "\n",
    "- Utilizziamo le reti neurali di TensorFlow con l'interfaccia Keras per provare a  trovare una soluzione migliore di __MLPgs__."
   ]
  },
  {
   "cell_type": "code",
   "execution_count": 660,
   "metadata": {},
   "outputs": [],
   "source": [
    "from keras.models import Sequential\n",
    "from keras.layers import Dense\n",
    "from keras.utils import to_categorical"
   ]
  },
  {
   "cell_type": "markdown",
   "metadata": {},
   "source": [
    "- Standardizziamo Traning set e Validation set.\n",
    "- Trasformiamo y_train e y_val per usare degli array che indicano a quale classe appartiene l'instanza invece del valore binario per renderli compatibili con TensorFlow usando la funzione `to_categorical` di Keras."
   ]
  },
  {
   "cell_type": "code",
   "execution_count": 661,
   "metadata": {},
   "outputs": [],
   "source": [
    "scaler_X = StandardScaler()\n",
    "Xscal_train = scaler_X.fit_transform(X_train)\n",
    "Xscal_val = scaler_X.transform(X_val)\n",
    "#scaler_y = StandardScaler()\n",
    "#yscal_train = scaler_y.fit_transform(ysq_train[:, None]).ravel()\n",
    "#yscal_val = scaler_y.transform(ysq_val[:, None]).ravel()\n",
    "\n",
    "yt_train = to_categorical(y_train)\n",
    "yt_val = to_categorical(y_val)"
   ]
  },
  {
   "cell_type": "markdown",
   "metadata": {},
   "source": [
    "- Proviamo una rete neurale con attivazione _ReLu_ a tre strati con rispettivamente 32, 8 e 2 nodi. \n",
    "    - Otteniamo 2 output, ovvero un array con 2 valori per ogni istanza."
   ]
  },
  {
   "cell_type": "code",
   "execution_count": 662,
   "metadata": {
    "scrolled": true
   },
   "outputs": [
    {
     "name": "stdout",
     "output_type": "stream",
     "text": [
      "Model: \"sequential_6\"\n",
      "_________________________________________________________________\n",
      "Layer (type)                 Output Shape              Param #   \n",
      "=================================================================\n",
      "dense_16 (Dense)             (None, 32)                2304      \n",
      "_________________________________________________________________\n",
      "dense_17 (Dense)             (None, 8)                 264       \n",
      "_________________________________________________________________\n",
      "dense_18 (Dense)             (None, 2)                 18        \n",
      "=================================================================\n",
      "Total params: 2,586\n",
      "Trainable params: 2,586\n",
      "Non-trainable params: 0\n",
      "_________________________________________________________________\n"
     ]
    }
   ],
   "source": [
    "Kmodel = Sequential([\n",
    "    Dense(32, activation=\"relu\", input_dim=Xscal_train.shape[1]),\n",
    "    Dense(8, activation=\"relu\"),\n",
    "    Dense(2, activation=\"softmax\")\n",
    "])\n",
    "Kmodel.summary()"
   ]
  },
  {
   "cell_type": "markdown",
   "metadata": {},
   "source": [
    "- La rete che costruiamo ha 2586 parametri, ovvero `71*32 + 32 + 32*8 + 8 + 8*2 + 2`.\n",
    "- Possiamo procedere ed addestrarla sul nostro modello con una discesa del gradiente stocastica, tale operazione richiede un po' di tempo."
   ]
  },
  {
   "cell_type": "code",
   "execution_count": 663,
   "metadata": {
    "scrolled": true
   },
   "outputs": [
    {
     "name": "stdout",
     "output_type": "stream",
     "text": [
      "Epoch 1/20\n",
      "71634/71634 [==============================] - 12s 162us/step - loss: 0.3858 - accuracy: 0.8130\n",
      "Epoch 2/20\n",
      "71634/71634 [==============================] - 6s 82us/step - loss: 0.3237 - accuracy: 0.8447\n",
      "Epoch 3/20\n",
      "71634/71634 [==============================] - 6s 86us/step - loss: 0.3138 - accuracy: 0.8492\n",
      "Epoch 4/20\n",
      "71634/71634 [==============================] - 6s 81us/step - loss: 0.3084 - accuracy: 0.8528 0s - loss: 0.3079 - \n",
      "Epoch 5/20\n",
      "71634/71634 [==============================] - 8s 108us/step - loss: 0.3037 - accuracy: 0.8549\n",
      "Epoch 6/20\n",
      "71634/71634 [==============================] - 6s 89us/step - loss: 0.3007 - accuracy: 0.8560\n",
      "Epoch 7/20\n",
      "71634/71634 [==============================] - 6s 88us/step - loss: 0.2985 - accuracy: 0.8583\n",
      "Epoch 8/20\n",
      "71634/71634 [==============================] - 6s 82us/step - loss: 0.2959 - accuracy: 0.8592\n",
      "Epoch 9/20\n",
      "71634/71634 [==============================] - 6s 81us/step - loss: 0.2942 - accuracy: 0.8606\n",
      "Epoch 10/20\n",
      "71634/71634 [==============================] - 6s 81us/step - loss: 0.2930 - accuracy: 0.8633\n",
      "Epoch 11/20\n",
      "71634/71634 [==============================] - 10s 133us/step - loss: 0.2914 - accuracy: 0.8622\n",
      "Epoch 12/20\n",
      "71634/71634 [==============================] - 8s 116us/step - loss: 0.2898 - accuracy: 0.8640\n",
      "Epoch 13/20\n",
      "71634/71634 [==============================] - 6s 78us/step - loss: 0.2886 - accuracy: 0.8646\n",
      "Epoch 14/20\n",
      "71634/71634 [==============================] - 6s 78us/step - loss: 0.2875 - accuracy: 0.8646\n",
      "Epoch 15/20\n",
      "71634/71634 [==============================] - 5s 74us/step - loss: 0.2866 - accuracy: 0.8644\n",
      "Epoch 16/20\n",
      "71634/71634 [==============================] - 6s 79us/step - loss: 0.2853 - accuracy: 0.8651\n",
      "Epoch 17/20\n",
      "71634/71634 [==============================] - 9s 120us/step - loss: 0.2849 - accuracy: 0.8657\n",
      "Epoch 18/20\n",
      "71634/71634 [==============================] - 9s 119us/step - loss: 0.2839 - accuracy: 0.8669\n",
      "Epoch 19/20\n",
      "71634/71634 [==============================] - 9s 129us/step - loss: 0.2830 - accuracy: 0.8663\n",
      "Epoch 20/20\n",
      "71634/71634 [==============================] - 8s 105us/step - loss: 0.2824 - accuracy: 0.86660s - loss:\n"
     ]
    },
    {
     "data": {
      "text/plain": [
       "<keras.callbacks.callbacks.History at 0x1a511a0690>"
      ]
     },
     "execution_count": 663,
     "metadata": {},
     "output_type": "execute_result"
    }
   ],
   "source": [
    "Kmodel.compile(optimizer=\"adam\", loss=\"categorical_crossentropy\", metrics=[\"accuracy\"])\n",
    "Kmodel.fit(Xscal_train, yt_train, batch_size=50, epochs=20)"
   ]
  },
  {
   "cell_type": "markdown",
   "metadata": {},
   "source": [
    "- Valutiamo il modello sui dati del Validation Set (bilanciato)."
   ]
  },
  {
   "cell_type": "code",
   "execution_count": 664,
   "metadata": {
    "scrolled": false
   },
   "outputs": [
    {
     "name": "stdout",
     "output_type": "stream",
     "text": [
      "35817/35817 [==============================] - 3s 86us/step\n"
     ]
    },
    {
     "data": {
      "text/plain": [
       "[0.2960367112125348, 0.8608761429786682]"
      ]
     },
     "execution_count": 664,
     "metadata": {},
     "output_type": "execute_result"
    }
   ],
   "source": [
    "Kmodel.evaluate(Xscal_val, yt_val)"
   ]
  },
  {
   "cell_type": "markdown",
   "metadata": {},
   "source": [
    "- Otteniamo un'accuratezza dell'85,6%, vicina a quella del modello precedente.\n",
    "- Controlliamo se i due modelli sono equivalenti con confidenza del 95% sul Test set (sbilanciato come i dati originali)."
   ]
  },
  {
   "cell_type": "code",
   "execution_count": 665,
   "metadata": {},
   "outputs": [
    {
     "name": "stdout",
     "output_type": "stream",
     "text": [
      "11939/11939 [==============================] - 1s 101us/step\n"
     ]
    },
    {
     "data": {
      "text/plain": [
       "(0.02511483119776062, 0.007048667541169919)"
      ]
     },
     "execution_count": 665,
     "metadata": {},
     "output_type": "execute_result"
    }
   ],
   "source": [
    "Xscal_test = scaler_X.transform(X_test)\n",
    "yt_test = to_categorical(y_test)\n",
    "a1 = Kmodel.evaluate(Xscal_test, yt_test)[1];\n",
    "a2 = MLPgs.score(X_test, y_test);\n",
    "N = len(X_test)\n",
    "level = 0.95\n",
    "Z = norm.ppf((level +1)/2);\n",
    "diff_interval(a1, a2, N, N, Z)"
   ]
  },
  {
   "cell_type": "markdown",
   "metadata": {},
   "source": [
    "- L'intervallo contiene lo 0 quindi la differenza dell'accuratezza dei due modelli non è statisticamente rilevante."
   ]
  },
  {
   "cell_type": "markdown",
   "metadata": {},
   "source": [
    "# Conclusione"
   ]
  },
  {
   "cell_type": "markdown",
   "metadata": {},
   "source": [
    "- I modelli più soddisfacenti ottenuti dall'analisi sono quelli che utilizzano funzioni di attivazione su più strati:\n",
    "    - **MLPgs** che utilizza MLP con Grid Search per estrarre la combinazione di iperparametri migliore fra un range di possibilità.\n",
    "    - **Kmodel** che utilizza TensorFlow con una Rete costruita su tre strati usando un numero di nodi casuale (facendo altri tentativi è possibile che l'accuratezza migliori).\n",
    "- Tali modelli sono equivalenti con affidabilità del 95%, quindi anche se Kmodel ha uno score leggermente superiore ciò non è rilevante."
   ]
  },
  {
   "cell_type": "markdown",
   "metadata": {},
   "source": [
    "## Interpretazione\n",
    "- Possiamo visualizzare i coefficienti e le intercette dei parametri di entrambi i modelli che risultano più accurati.\n",
    "- Nel caso ci **Kmodel** otteniamo:\n",
    "    - una matrice `71 x 32` per i pesi del primo strato\n",
    "    - un vettore con i `32` bias del primo strato \n",
    "    - una matrice `32 x 8` con pesi del secondo strato \n",
    "    - un vettore con gli `8` bias del secondo strato\n",
    "    - una matrice `8 x 2` per i pesi dell'output\n",
    "    - un vettore di `2` elementi con i bias di output"
   ]
  },
  {
   "cell_type": "code",
   "execution_count": 666,
   "metadata": {
    "scrolled": true
   },
   "outputs": [
    {
     "data": {
      "text/plain": [
       "[array([[ 0.09835638, -1.4270738 ,  0.25412765, ...,  0.13480404,\n",
       "          0.06099843, -1.0679125 ],\n",
       "        [ 0.69601387, -0.09001047, -0.07280458, ..., -0.44356155,\n",
       "         -0.697138  ,  0.04622587],\n",
       "        [ 0.41741422, -0.11181132, -0.29943618, ...,  0.7720382 ,\n",
       "         -0.06436125, -0.08913923],\n",
       "        ...,\n",
       "        [-0.5143493 , -0.01633811, -0.15073135, ..., -0.25577262,\n",
       "         -0.04265362,  0.26690504],\n",
       "        [ 0.17898245,  0.09575053, -0.02604941, ...,  0.5986197 ,\n",
       "         -0.23024458, -0.01727385],\n",
       "        [ 0.1842543 ,  0.10996938, -0.29870412, ..., -0.53690076,\n",
       "          0.02355478,  0.10647229]], dtype=float32),\n",
       " array([ 0.09373539, -0.27835086,  0.24677996, -0.15357248, -0.03437631,\n",
       "        -0.04250074, -0.14800252,  0.04141244,  0.3602932 , -0.23366871,\n",
       "        -0.25995952, -0.10440576, -0.00795077,  0.00688174, -0.17480887,\n",
       "         0.00483486, -0.3855017 , -0.15365122, -0.18310054,  0.05844958,\n",
       "        -0.12833522, -0.15060672,  0.11549915, -0.17550196, -0.23365934,\n",
       "        -0.04950771, -0.07524829, -0.09454156,  0.01672965, -0.05104978,\n",
       "         0.08674968, -0.38968012], dtype=float32),\n",
       " array([[-0.28269112,  0.06354757, -0.01270682, -0.24903007,  0.07971634,\n",
       "          0.18499243,  0.245434  ,  0.6257108 ],\n",
       "        [ 0.2131013 , -0.49684688, -0.6221747 ,  0.36985025,  0.08470444,\n",
       "         -0.8571678 ,  0.03924758,  0.17315258],\n",
       "        [ 0.19120541, -0.4481741 ,  0.0129317 ,  0.29847765, -0.6742148 ,\n",
       "          0.12879418,  0.09559176,  0.12782283],\n",
       "        [ 0.33887234,  0.2457372 , -0.12703513, -0.2529284 ,  0.1378533 ,\n",
       "         -0.6369243 ,  0.24697971,  0.40807605],\n",
       "        [-0.3291702 ,  0.0972896 , -0.3424039 ,  0.4663619 ,  0.4125599 ,\n",
       "         -0.08725134,  0.24709451,  0.4691665 ],\n",
       "        [-0.40612853, -0.01022964, -0.13361242,  0.19056953, -0.49211934,\n",
       "          0.09527359, -0.4940807 ,  0.11773506],\n",
       "        [ 0.17222369,  0.04150758,  0.40469515,  0.02661362,  0.28312624,\n",
       "          0.21180195,  0.25852063,  0.4708579 ],\n",
       "        [-0.17530869, -0.14015372, -0.6149943 ,  0.41775236, -0.04950187,\n",
       "         -0.27691543,  0.06148695,  0.14897813],\n",
       "        [ 0.33363986,  0.35476506,  0.16231504,  0.0655966 , -0.37586263,\n",
       "          0.49093768, -0.24627933, -0.17741601],\n",
       "        [ 0.44079638,  0.22579904, -0.01870545, -0.46486896,  0.1457949 ,\n",
       "          0.4998671 , -0.1673335 , -0.1889092 ],\n",
       "        [ 0.3161082 , -0.2301528 ,  0.1302705 , -0.15980391,  0.12208815,\n",
       "          0.06775988,  0.3142905 ,  0.14739107],\n",
       "        [-0.22349872, -0.1913837 ,  0.09135333,  0.07697166, -0.3225778 ,\n",
       "          0.42878962, -0.2695422 , -0.19652428],\n",
       "        [-0.07198244,  0.64519435, -1.3265834 , -0.20184796,  0.11682934,\n",
       "          0.17094098, -0.44807485,  0.35325646],\n",
       "        [-0.28291535,  0.03852917, -0.05398554,  0.32422853,  0.08445077,\n",
       "          0.16936702,  0.22273305, -0.01315681],\n",
       "        [-0.11828241,  0.4012946 ,  0.08068761, -0.49472797,  0.01686704,\n",
       "          0.35845754, -0.41154045,  0.08411392],\n",
       "        [-0.03702208,  0.40922877, -0.16763826, -0.08946038,  0.17433068,\n",
       "          0.38951674, -0.3049758 , -0.5779219 ],\n",
       "        [-0.6350378 ,  0.05401219,  0.28158978,  0.01476008,  0.0661149 ,\n",
       "         -0.03357542, -0.08072737, -0.46716657],\n",
       "        [-0.6181292 , -0.02701914, -0.26826918, -0.07570706,  0.29580107,\n",
       "          0.24701014, -0.07552546,  0.0846277 ],\n",
       "        [ 0.33391646, -0.13882412, -0.6424585 ,  0.2740567 ,  0.3664683 ,\n",
       "         -0.19501524, -0.21248394, -0.18117146],\n",
       "        [ 0.07011232,  0.03185465, -0.6884922 ,  0.01013755, -0.0356434 ,\n",
       "         -0.45188558, -0.06450444, -0.01178489],\n",
       "        [-0.20520955, -0.0419858 , -0.27120763, -0.433858  ,  0.00135116,\n",
       "          0.20202275,  0.14070648, -0.12646693],\n",
       "        [-0.3042984 ,  0.25897813, -0.235936  , -0.05658492,  0.04721105,\n",
       "         -0.5381417 , -0.16668361, -0.10700525],\n",
       "        [ 0.16633645,  0.15079764,  0.26380214,  0.197709  ,  0.40051484,\n",
       "         -0.687228  , -0.09214242, -0.2608572 ],\n",
       "        [ 0.14505118,  0.29129124,  0.17848642, -0.27821028, -0.01690411,\n",
       "         -0.02574337,  0.37823117,  0.3873207 ],\n",
       "        [-0.74541634, -0.5170827 , -0.09446663,  0.36234817,  0.63842404,\n",
       "          0.24459626,  0.11080623,  0.36279073],\n",
       "        [-0.44351393, -0.31915307,  0.1376353 ,  0.33615297, -0.39363593,\n",
       "         -0.3471559 ,  0.21373513, -0.47933474],\n",
       "        [ 0.4316158 , -0.05028854, -0.42665696, -0.03438888,  0.14857133,\n",
       "         -0.3170774 , -0.57386863, -0.05633428],\n",
       "        [ 0.6494214 ,  0.06620821, -0.71854556, -0.14535381,  0.24097472,\n",
       "         -0.07631936, -0.2577739 ,  0.0447998 ],\n",
       "        [ 0.3281537 , -0.38913736, -0.03267566,  0.4197915 ,  0.20134702,\n",
       "         -0.01146863,  0.44255567,  0.1922528 ],\n",
       "        [ 0.16032921,  0.22617504, -0.5046581 ,  0.4952909 , -0.14033519,\n",
       "          0.31250265,  0.3617512 ,  0.5049734 ],\n",
       "        [ 0.6775892 , -0.2867239 , -0.35225847, -0.18512003,  0.08266574,\n",
       "         -0.4097072 , -0.23866792,  0.14944255],\n",
       "        [ 0.04188909, -0.6474993 , -0.81948686,  0.562936  , -0.4959404 ,\n",
       "         -0.08068443,  0.39113966,  0.0832545 ]], dtype=float32),\n",
       " array([ 0.25278038,  0.06986406,  0.07388993,  0.07179114, -0.11490501,\n",
       "         0.12845854,  0.02121096, -0.04532311], dtype=float32),\n",
       " array([[ 0.9358599 , -0.5945201 ],\n",
       "        [ 0.01958549,  0.48156232],\n",
       "        [-1.2216282 ,  0.88958395],\n",
       "        [-0.03924465, -0.66874385],\n",
       "        [ 0.03728487,  0.5392081 ],\n",
       "        [-0.77133167,  0.54197174],\n",
       "        [-0.5289348 ,  0.7491054 ],\n",
       "        [-0.2142848 , -0.7349753 ]], dtype=float32),\n",
       " array([ 0.15089977, -0.15089963], dtype=float32)]"
      ]
     },
     "execution_count": 666,
     "metadata": {},
     "output_type": "execute_result"
    }
   ],
   "source": [
    "Kmodel.get_weights()"
   ]
  },
  {
   "cell_type": "markdown",
   "metadata": {},
   "source": [
    "- Invece con **MLPgs** abbiamo:\n",
    "    - _coefs_ con:\n",
    "        - una lista di 71 vettori di 8 elementi che rappresentano i pesi dati alle 71 feature iniziali per formare le variabili del primo layer\n",
    "        - una lista di 8 vettori di 16 elementi che rappresentano i pesi dati alle 8 variabili del primo layer per formare le variabili del secondo layer\n",
    "        - una lista di 16 vettori con un solo elemento che indicano i pesi delle 16 variabili del secondo layer nell'output finale\n",
    "    - _intercepts_ con:\n",
    "        - un vettore di 8 elementi con i bias delle variabili del primo layer\n",
    "        - un vettore di 16 elementi con i bias delle variabili del secondo layer\n",
    "        - il bias dell'output finale"
   ]
  },
  {
   "cell_type": "code",
   "execution_count": 667,
   "metadata": {},
   "outputs": [
    {
     "data": {
      "text/plain": [
       "[array([[ 3.58436760e-02, -3.24801807e-01,  5.04319061e-01,\n",
       "          2.86035155e-01,  2.30328552e-01,  1.27077529e+00,\n",
       "         -1.72390474e+00,  4.51869048e-01],\n",
       "        [-7.85108389e-01, -6.89126014e-01, -1.48548452e+00,\n",
       "          1.71300952e-01, -1.17899385e+00, -7.75384485e-01,\n",
       "         -4.27008067e-01, -7.57906578e-01],\n",
       "        [-3.67754054e-01, -8.52480781e-02, -5.07261695e-01,\n",
       "          1.34636619e-02, -3.46329420e-01, -2.72807829e-01,\n",
       "         -6.02233472e-02, -5.51483614e-01],\n",
       "        [-3.56793458e-02, -6.36595808e-02,  4.99918269e-02,\n",
       "          1.73465143e-02,  1.00838354e-02, -1.38308694e-01,\n",
       "          1.16016330e-01, -4.02974094e-01],\n",
       "        [-1.07185344e-02, -5.03141760e-02,  1.40123111e-01,\n",
       "         -1.12897935e-02,  6.89858422e-02, -3.20093768e-02,\n",
       "          1.77958871e-01, -5.47532439e-01],\n",
       "        [-1.82785348e-02, -1.16892049e-02, -4.88957418e-03,\n",
       "         -6.11444915e-03,  1.17137391e-01,  2.73463562e-02,\n",
       "          3.05672044e-02,  2.64364683e-01],\n",
       "        [-3.80032752e-01,  4.57878393e-01, -6.15539890e-01,\n",
       "         -1.00821698e-01,  1.19313624e-01, -1.24483613e+00,\n",
       "          9.26333915e-02,  2.39897230e-01],\n",
       "        [-2.94758587e+00, -4.68071063e+00, -2.72777817e+00,\n",
       "         -3.53918590e+00,  3.01284758e-01,  9.57403020e-01,\n",
       "         -1.85060621e+00, -2.68770014e+00],\n",
       "        [ 5.79582296e-01,  1.10983908e+00,  5.63993713e-01,\n",
       "          5.85364981e-02, -3.13242756e+00, -1.70508998e+00,\n",
       "          1.39554027e-01,  6.99384395e-02],\n",
       "        [ 1.43299743e+00,  8.11513183e-01,  1.54698696e+00,\n",
       "          1.48505195e+00, -1.01491768e+00, -9.75550514e-01,\n",
       "          1.06039914e+00,  1.57191113e+00],\n",
       "        [ 4.61102671e-01,  5.40110012e-01,  3.45519053e-02,\n",
       "          3.84169230e-01, -1.00654715e-01, -2.38132663e-01,\n",
       "         -8.02540317e-01,  3.29585435e-01],\n",
       "        [ 9.63525105e-02, -1.59184477e-01, -2.60491109e-02,\n",
       "          3.85288804e-03, -7.55117850e-02,  2.44513813e-01,\n",
       "         -2.68025204e-01, -1.05011735e+00],\n",
       "        [ 7.86194747e-01, -2.70181153e-01, -1.01287506e+00,\n",
       "          5.00367825e-02,  6.28472265e-01, -1.51412844e+00,\n",
       "          2.75123389e-01,  7.71716168e-01],\n",
       "        [ 3.19664403e-01, -4.40401303e-02,  3.24828666e-02,\n",
       "          4.30898798e-01,  3.98421884e-02,  3.55415978e-01,\n",
       "          6.29823012e-02, -2.47538350e-02],\n",
       "        [-7.85620749e-01,  2.50733955e-01, -1.15756916e+00,\n",
       "         -7.15907032e-01, -1.08976408e+00,  4.13901201e-01,\n",
       "         -4.96410766e-01, -7.03082825e-01],\n",
       "        [ 1.03537427e-01,  2.79200062e-02, -1.17615560e-01,\n",
       "          6.83167118e-02,  1.93936936e-01, -1.10376498e-01,\n",
       "          9.50104405e-01, -4.53994190e-02],\n",
       "        [-1.38462245e-01,  1.64482070e-01, -3.63800706e-02,\n",
       "         -2.32937894e-01, -2.42778247e-01, -3.20097475e-01,\n",
       "         -3.40429302e-01, -1.70619204e-01],\n",
       "        [ 4.07856841e-01, -7.39194119e-02, -6.43604452e-02,\n",
       "          4.22898887e-01,  3.37828247e-01, -4.48687725e-01,\n",
       "          5.61203064e-02,  2.29784152e-02],\n",
       "        [-1.63528556e-02, -7.99286027e-03, -1.93270422e-02,\n",
       "         -8.50159929e-02, -4.37131980e-01, -6.74942177e-01,\n",
       "         -1.47368106e-01,  2.23248162e-01],\n",
       "        [ 2.29936004e-01, -1.70800947e-01,  3.96711980e-01,\n",
       "         -1.18199570e-01,  1.61047331e-01,  2.35014632e-01,\n",
       "         -3.16237743e-01,  1.00188688e-01],\n",
       "        [ 1.39017394e-01, -8.44790342e-04,  2.91228323e-01,\n",
       "          2.70576462e-01,  2.69068042e-01,  6.38572441e-01,\n",
       "          2.35377758e-01,  2.65073123e-03],\n",
       "        [ 1.15646457e-01, -1.75824435e-01,  1.88178562e-01,\n",
       "         -1.27817800e-01, -4.05436891e-01,  5.20539323e-01,\n",
       "          5.13640527e-03, -1.48010760e-01],\n",
       "        [ 6.60258049e-02, -2.02795917e-01, -5.03916677e-03,\n",
       "          5.08238597e-02, -1.13043390e-01, -2.76008133e-01,\n",
       "          7.64427339e-04,  1.82462425e-01],\n",
       "        [ 1.91722087e-01, -1.30424502e-01,  1.85155558e-01,\n",
       "          3.08151592e-02,  2.61482973e-01, -6.28928139e-01,\n",
       "         -3.14384324e-01,  7.57704290e-02],\n",
       "        [-3.37778764e-01,  4.78286511e-01, -8.50482006e-01,\n",
       "         -3.76349826e-01, -2.56483585e-01,  7.82419316e-01,\n",
       "          1.28975231e-01,  3.11191878e-01],\n",
       "        [ 1.18045821e-01,  2.26487132e-02, -3.01274754e-01,\n",
       "          2.44877307e-01,  1.64006636e-01,  9.98543313e-02,\n",
       "          2.40502998e-04,  2.10394642e-01],\n",
       "        [ 1.58343491e-01,  5.09524953e-02,  5.66824195e-01,\n",
       "          6.24025018e-02, -2.23584907e-01,  5.20253969e-02,\n",
       "         -2.01405586e-01,  7.32158212e-02],\n",
       "        [ 6.61473274e-02, -1.36987354e-01,  4.82991542e-02,\n",
       "         -2.40528350e-02, -2.61565496e-01,  5.86183630e-02,\n",
       "         -4.01337187e-02, -3.84319276e-02],\n",
       "        [ 7.41063382e-02, -5.97935754e-02, -7.35774376e-02,\n",
       "          2.17160361e-01, -2.50915758e-01,  1.65860738e-01,\n",
       "         -2.33754315e-01,  2.66345442e-01],\n",
       "        [ 5.89739682e-02, -4.19348762e-02,  2.97469999e-01,\n",
       "          2.35256457e-02, -2.86804661e-01,  3.07272633e-01,\n",
       "          2.16990235e-01,  9.46841044e-02],\n",
       "        [-3.50635107e-01,  4.14573452e-01, -4.74292573e-01,\n",
       "         -4.13767988e-02,  5.07998072e-01,  1.35024597e-02,\n",
       "          3.46731828e-01, -1.96908758e-01],\n",
       "        [-9.00217343e-02,  1.99397384e-01,  3.71994219e-01,\n",
       "         -1.05135234e-01, -1.67688677e-01, -6.92924803e-01,\n",
       "          9.42953616e-02, -3.32074245e-01],\n",
       "        [ 1.55985812e-01, -7.43167402e-02,  4.95519594e-01,\n",
       "          1.06512779e-01,  2.79562852e-01, -2.04547845e-01,\n",
       "         -3.92094778e-01, -1.02139507e-01],\n",
       "        [ 5.85250916e-02,  4.19896349e-02,  3.40067076e-01,\n",
       "         -3.76726039e-02,  1.49936349e-01, -4.28864096e-01,\n",
       "          3.57415554e-02, -6.52453624e-02],\n",
       "        [ 2.12088041e-02,  7.91076258e-02, -1.62694678e-01,\n",
       "          1.50137501e-01,  2.01443430e-01, -2.97504072e-01,\n",
       "         -1.94794148e-01, -1.45946589e-01],\n",
       "        [ 4.81729229e-01, -3.27694002e-01,  1.37178096e-01,\n",
       "         -2.59718172e-01, -1.53371653e-01,  6.74416204e-02,\n",
       "          3.62708712e-01, -3.50697209e-02],\n",
       "        [-2.90826995e-02,  6.60454119e-02, -3.40729851e-01,\n",
       "         -1.11769069e-01, -6.25459463e-02,  3.63274577e-02,\n",
       "          1.87958967e-02,  2.96587231e-01],\n",
       "        [ 1.08218446e-02,  1.35084442e-01, -6.57718232e-02,\n",
       "          2.49150276e-02,  6.45737448e-02,  8.09343110e-02,\n",
       "         -1.92229245e-01,  2.80162319e-01],\n",
       "        [ 6.03816354e-03, -2.21075566e-01, -9.17300565e-02,\n",
       "         -1.78951139e-01, -1.22264381e-01, -5.65852082e-02,\n",
       "          1.69607813e-01,  2.09357703e-01],\n",
       "        [ 3.26218949e-01, -7.47678112e-02, -2.70577179e-01,\n",
       "          1.70047811e-01,  8.65014382e-03,  1.24724162e-01,\n",
       "         -1.80340550e-01,  1.42382232e-01],\n",
       "        [-9.96683962e-02,  2.31340098e-02,  2.20619822e-02,\n",
       "          2.94625882e-01, -3.34084616e-01,  2.66176212e-01,\n",
       "         -2.81168034e-01, -2.51673059e-01],\n",
       "        [ 1.95728153e-01, -7.57589102e-02, -1.19541787e-02,\n",
       "         -4.29075812e-02, -2.06326448e-01,  1.98618713e-01,\n",
       "         -8.80236344e-02,  2.77048471e-01],\n",
       "        [-1.48215556e-01,  2.29744789e-01,  8.64482368e-02,\n",
       "         -7.56746186e-02, -3.81729559e-01,  5.55508788e-02,\n",
       "          3.19115151e-01, -3.98515339e-01],\n",
       "        [-2.20325106e-01, -8.95830957e-02,  1.85403726e-02,\n",
       "         -1.13138632e-03, -3.14912999e-01, -6.32456811e-01,\n",
       "          2.99015389e-01, -1.49115829e-01],\n",
       "        [-3.21807102e-02,  3.77242845e-01, -5.15045782e-03,\n",
       "          9.47628430e-02, -5.14154156e-01,  3.39100035e-01,\n",
       "         -4.40654167e-02,  3.46268623e-02],\n",
       "        [-1.14376918e-03,  5.99374969e-03,  6.79110489e-02,\n",
       "          7.98027724e-02,  4.12321069e-01, -7.42843029e-01,\n",
       "         -1.26938710e-01, -3.16967529e-03],\n",
       "        [ 1.84002039e-01,  2.24415898e-02,  2.68154564e-02,\n",
       "          2.29631019e-01, -7.48805405e-01,  2.55385873e-01,\n",
       "         -1.06132749e+00,  4.07769341e-01],\n",
       "        [ 1.67693136e-02, -1.49539882e-01, -3.64146512e-02,\n",
       "         -1.62336926e-02,  1.34769197e-01,  1.08268143e-01,\n",
       "         -9.61558130e-02,  3.07529276e-01],\n",
       "        [ 2.62348480e-02,  5.24793976e-02,  5.49678255e-02,\n",
       "         -6.31697011e-03,  2.77154017e-01, -5.29899588e-02,\n",
       "          1.40927491e-01, -2.97929268e-02],\n",
       "        [ 2.17694601e-02, -5.19968220e-01,  7.16633944e-02,\n",
       "          7.95644078e-02,  8.59432450e-02,  5.57526612e-02,\n",
       "          1.46122810e-02,  2.33723513e-01],\n",
       "        [-4.76667242e-02, -4.34890588e-02, -1.07591186e-03,\n",
       "         -3.43221778e-02, -2.39865510e-01, -4.35870149e-01,\n",
       "          6.36230199e-01,  1.03704886e-02],\n",
       "        [-7.22930580e-02, -4.61047361e-02, -1.51040691e-02,\n",
       "         -1.98961137e-02, -1.99628574e-01, -5.03000985e-01,\n",
       "         -2.62910576e-01, -2.05414491e-02],\n",
       "        [ 7.95856038e-02, -8.45983407e-01, -7.01281366e-01,\n",
       "          1.04097936e-01, -8.97726253e-04,  1.50306997e-01,\n",
       "          7.64162066e-02,  6.56196126e-01],\n",
       "        [ 9.56003232e-02, -1.70857895e-02,  2.44335638e-01,\n",
       "         -4.04223191e-03,  3.09057411e-01, -4.21792659e-01,\n",
       "         -1.63227174e-01, -3.16272737e-03],\n",
       "        [ 2.44478149e-01, -7.88066256e-02,  1.98453395e-02,\n",
       "         -7.79008438e-02,  3.53303897e-01,  1.18869542e-01,\n",
       "          1.37584870e-01,  2.37186203e-02],\n",
       "        [-8.52989280e-03,  4.80258540e-02,  4.02589683e-02,\n",
       "         -3.77227405e-02, -4.36663888e-01, -1.76409274e-02,\n",
       "         -1.18441577e-02, -7.06705046e-01],\n",
       "        [-1.25458980e-02, -6.35359292e-02,  2.98156135e-02,\n",
       "         -6.21576024e-02,  1.10043546e-01,  6.15962323e-02,\n",
       "         -2.13896679e-01,  3.67144476e-01],\n",
       "        [-1.81034976e+00,  6.10882194e-01, -9.28864813e-01,\n",
       "         -1.93194393e+00,  8.65315171e-01, -5.94312702e-01,\n",
       "         -1.17049159e+00, -5.13207279e-01],\n",
       "        [-6.27156915e-02, -1.42658853e-02,  5.16476893e-01,\n",
       "         -7.61414248e-02, -2.28719420e-01,  2.45020921e-02,\n",
       "         -4.27765385e-01, -1.00521774e-01],\n",
       "        [-3.91598827e-02,  1.38294621e-01,  1.82848253e-01,\n",
       "         -1.36082348e-01, -4.55017205e-01,  2.28576185e-01,\n",
       "         -1.86806843e-03, -3.79933409e-01],\n",
       "        [-3.62011768e-01,  1.30313573e-01, -1.39392721e+00,\n",
       "          1.65094286e-01, -1.39169903e-01, -8.66342778e-01,\n",
       "         -1.89548389e-01,  1.29418815e-01],\n",
       "        [-4.73536171e-01, -2.01587704e-01,  1.00397661e-01,\n",
       "          5.87538803e-01,  1.14828482e-01, -3.64982025e-02,\n",
       "         -7.28293739e-01,  3.03655679e-01],\n",
       "        [ 2.78430530e-02,  2.15516337e-02,  1.68191058e-01,\n",
       "          3.55664074e-01,  4.60806361e-02, -4.21242981e-01,\n",
       "         -1.59324647e-01,  2.56744339e-01],\n",
       "        [ 3.22928233e-01, -3.12731643e-01,  4.29194544e-02,\n",
       "         -3.95032372e-01,  1.56978868e-01,  1.86043493e-02,\n",
       "          7.25511160e-02,  4.68040366e-02],\n",
       "        [ 5.53394040e-01,  1.82824184e-01, -5.10467134e-02,\n",
       "         -5.94466424e-02, -2.76869227e-01,  2.76726614e-01,\n",
       "         -3.50379529e-01,  1.04043183e-01],\n",
       "        [ 5.16770200e-01, -3.70980552e-02,  8.44380052e-01,\n",
       "          3.56793642e-01,  4.75265704e-01,  7.02581352e-02,\n",
       "          3.08978887e-01, -9.55459054e-02],\n",
       "        [-6.41061225e-03,  1.52324521e-01,  1.51724637e-02,\n",
       "          1.85953353e-03,  1.34995114e-01, -2.37498882e-03,\n",
       "          1.09777791e-01,  2.45562956e-01],\n",
       "        [-9.50897089e-03, -1.60462891e-02,  4.40045266e-01,\n",
       "         -3.91245315e-02, -2.08049575e-01,  2.08720384e-01,\n",
       "         -5.56574380e-02, -3.09857384e-02],\n",
       "        [ 6.54898268e-02,  5.88063137e-01, -2.69889525e-01,\n",
       "          2.17354259e-01, -4.68154932e-01, -1.07283388e+00,\n",
       "         -4.98477075e-01,  1.15664874e-01],\n",
       "        [-3.51231901e-01, -4.42619544e-01, -1.78779074e-01,\n",
       "         -4.64860495e-01,  8.88550459e-01,  7.40740838e-01,\n",
       "         -1.14636489e-01, -2.68133027e-01],\n",
       "        [ 2.50015578e-01, -1.03574654e-01,  9.15616561e-03,\n",
       "         -6.85063354e-01, -3.09130348e-01,  8.66140731e-01,\n",
       "         -4.20131318e-01,  7.57611186e-02]]),\n",
       " array([[-9.03398977e-001, -6.24561209e-001, -1.25009581e+000,\n",
       "          8.13580582e-316,  5.64511491e-002, -2.23851867e-001,\n",
       "          4.89969784e-002, -7.02356626e-003,  6.82439270e-316,\n",
       "         -1.08454305e+000, -7.11768244e-001,  9.39010752e-002,\n",
       "          2.43858557e-001, -2.12081199e-001, -4.42014144e-001,\n",
       "         -9.60385139e-001],\n",
       "        [-2.58803928e-001, -1.80860175e-001, -6.45211235e-001,\n",
       "          8.84413914e-316, -6.83926487e-003, -2.18875925e-001,\n",
       "         -4.81165218e-001,  4.01545125e-001,  4.53838090e-316,\n",
       "         -2.06946412e-001, -7.70067814e-001,  3.00934788e-001,\n",
       "          5.70314503e-001,  3.28818978e-001, -1.28038464e-002,\n",
       "         -3.13983537e-001],\n",
       "        [ 2.98743572e-001, -1.01282438e+000,  6.91609914e-001,\n",
       "         -5.04316826e-316, -3.48562441e+000,  7.51420276e-001,\n",
       "          2.62250529e-001,  7.76445058e-001, -7.41454048e-316,\n",
       "         -4.80888541e-002, -2.00346753e-001,  3.06458442e-001,\n",
       "         -2.11585865e+000, -2.63848215e+000,  3.60314584e-001,\n",
       "         -6.89278048e-001],\n",
       "        [-2.69146225e+000, -3.49404865e-001, -8.39563234e-002,\n",
       "         -6.00349636e-316,  2.22581136e-001, -8.90930276e-001,\n",
       "          3.73260883e-001,  3.94124236e-001,  4.45977051e-317,\n",
       "          1.99532574e-001, -4.73234460e-001,  5.93155212e-001,\n",
       "         -2.98443632e-001,  2.20937661e-001, -2.87042110e-001,\n",
       "          1.86531758e-001],\n",
       "        [-4.22588516e-001,  3.55700361e-001,  2.05097967e-001,\n",
       "         -6.46155904e-316, -2.26774427e-001,  4.50864455e-001,\n",
       "         -2.21856066e+000, -5.84472213e-001,  3.21057261e-316,\n",
       "         -2.17099179e+000,  2.91999684e-001,  2.59428669e-001,\n",
       "         -1.46095670e-001,  3.97011665e-001,  3.39875241e-001,\n",
       "          4.62254107e-001],\n",
       "        [ 3.33456167e-001,  7.07668289e-001,  2.44547573e-001,\n",
       "         -6.59077751e-316,  4.88143579e-001, -4.55094705e-001,\n",
       "         -6.28621896e-001,  3.66107691e-001,  9.55024032e-316,\n",
       "          1.76461816e-001, -1.02763432e+000, -5.00575983e-001,\n",
       "          1.39547591e-001,  1.97068870e-001,  7.48263402e-002,\n",
       "          2.13609259e-001],\n",
       "        [ 1.64221989e-001, -3.11449769e-001,  3.74848238e-001,\n",
       "          1.03617056e-315,  3.01310941e-001, -9.68057701e-002,\n",
       "          6.23746806e-001,  7.77093053e-002,  1.56839039e-316,\n",
       "          7.57846900e-001, -5.35762461e-001,  5.38263605e-001,\n",
       "         -4.91516307e-001, -5.25401874e-001, -1.43069844e-001,\n",
       "         -5.06863300e-002],\n",
       "        [-2.16707808e-001, -1.68985153e-001, -2.16450275e+000,\n",
       "          7.90846413e-316,  1.21373803e-001, -2.35479297e-001,\n",
       "         -3.13066502e-002, -5.96663928e-002, -2.43087343e-316,\n",
       "          7.11228204e-002, -3.38104333e-001,  6.36994927e-001,\n",
       "          1.14350599e-002, -7.09356911e-002, -2.55380411e+000,\n",
       "          4.18829023e-001]]),\n",
       " array([[ 7.37631794e-001],\n",
       "        [ 5.29785247e-001],\n",
       "        [ 6.04538412e-001],\n",
       "        [-2.34438507e-316],\n",
       "        [ 5.67426981e-001],\n",
       "        [ 2.89109863e-001],\n",
       "        [-8.85956983e-001],\n",
       "        [-8.25688805e-001],\n",
       "        [ 6.29057863e-316],\n",
       "        [ 7.32226569e-001],\n",
       "        [ 1.44978757e+000],\n",
       "        [-5.60452012e-001],\n",
       "        [ 3.84124613e-001],\n",
       "        [ 9.43996992e-001],\n",
       "        [ 5.36295820e-001],\n",
       "        [ 3.35626536e-001]])]"
      ]
     },
     "execution_count": 667,
     "metadata": {},
     "output_type": "execute_result"
    }
   ],
   "source": [
    "MLPgs.best_estimator_.named_steps['mlp'].coefs_"
   ]
  },
  {
   "cell_type": "code",
   "execution_count": 668,
   "metadata": {
    "scrolled": false
   },
   "outputs": [
    {
     "data": {
      "text/plain": [
       "[array([-0.5490244 , -0.09915449, -0.67720958, -0.30232561,  0.16062896,\n",
       "         0.32776962,  0.22067285, -0.47633095]),\n",
       " array([-3.00301863e-02,  4.51295967e-01, -4.39042511e-04, -9.11556372e-02,\n",
       "         2.12679603e-02,  7.36964602e-01, -1.41204007e-01,  7.40172691e-01,\n",
       "        -1.95428253e-03, -3.59936402e-01,  1.22456053e+00, -6.90344897e-01,\n",
       "         2.07700781e-02, -1.11405294e+00, -5.72118771e-02, -2.96737944e-01]),\n",
       " array([-0.09250785])]"
      ]
     },
     "execution_count": 668,
     "metadata": {},
     "output_type": "execute_result"
    }
   ],
   "source": [
    "MLPgs.best_estimator_.named_steps['mlp'].intercepts_"
   ]
  },
  {
   "cell_type": "markdown",
   "metadata": {},
   "source": [
    "- Dato che entrambi i modelli sono di reti neurali a più strati, i pesi delle variabili non si possono interpretare intuitivamente per valutare quali sono le feature con maggiore rilevanza nella predizione.\n",
    "    - Non si riesce a capire in che misura le feature sono correlate con la variabile da predire."
   ]
  },
  {
   "cell_type": "markdown",
   "metadata": {},
   "source": [
    "- Possiamo però interpretare il risultato del modello lineare migliore **gs_sq** prendendo in considerazione i pesi assegnati alle feature selezionate."
   ]
  },
  {
   "cell_type": "code",
   "execution_count": 669,
   "metadata": {},
   "outputs": [
    {
     "data": {
      "text/plain": [
       "required_car_parking_spaces      -1.600002\n",
       "total_of_special_requests        -0.629993\n",
       "x9_No Deposit                    -0.559197\n",
       "previous_bookings_not_canceled   -0.319920\n",
       "is_repeated_guest                -0.212145\n",
       "x7_TA/TO                         -0.170854\n",
       "x7_Direct                        -0.160417\n",
       "x6_Offline TA/TO                 -0.136335\n",
       "x5_DEU                           -0.132751\n",
       "x0_28.0                          -0.103974\n",
       "x2_Resort Hotel                  -0.097597\n",
       "x0_0.0                           -0.096583\n",
       "x5_FRA                           -0.087669\n",
       "x5_BEL                           -0.079973\n",
       "x8_A                             -0.074453\n",
       "x5_GBR                           -0.062650\n",
       "x0_152.0                         -0.059138\n",
       "x0_7.0                           -0.054954\n",
       "x0_40.0                          -0.052469\n",
       "x4_Undefined                     -0.050800\n",
       "x5_AUT                           -0.048965\n",
       "x5_NLD                           -0.046108\n",
       "x0_11.0                          -0.041340\n",
       "x1_154.0                         -0.034684\n",
       "x0_308.0                         -0.033051\n",
       "x1_40.0                          -0.027993\n",
       "x0_252.0                         -0.015395\n",
       "x3_January                       -0.010851\n",
       "x3_March                         -0.007103\n",
       "x6_Corporate                     -0.004181\n",
       "x6_Online TA                      0.000000\n",
       "stays_in_weekend_nights           0.015836\n",
       "x5_IDN                            0.034317\n",
       "x5_PHL                            0.038159\n",
       "x0_531.0                          0.038933\n",
       "x5_HKG                            0.039029\n",
       "x5_ARE                            0.044889\n",
       "x0_281.0                          0.045594\n",
       "x5_RUS                            0.046868\n",
       "x5_ITA                            0.050332\n",
       "x1_67.0                           0.051242\n",
       "x5_MAR                            0.053126\n",
       "x5_MAC                            0.053453\n",
       "x0_67.0                           0.054622\n",
       "children                          0.055064\n",
       "x4_SC                             0.057708\n",
       "x8_P                              0.063704\n",
       "x5_CHN                            0.069455\n",
       "x5_missing                        0.071537\n",
       "x0_191.0                          0.074578\n",
       "x5_BRA                            0.081071\n",
       "x0_242.0                          0.088333\n",
       "x5_AGO                            0.092093\n",
       "x2_City Hotel                     0.097597\n",
       "x0_56.0                           0.105531\n",
       "x5_ESP                            0.107187\n",
       "adults                            0.110168\n",
       "x0_134.0                          0.123011\n",
       "x1_0.0                            0.132075\n",
       "x0_17.0                           0.153866\n",
       "x6_Groups                         0.171288\n",
       "arrival_date_week_number          0.178202\n",
       "stays_in_nights                   0.252946\n",
       "arrival_date_year                 0.370569\n",
       "x10_Transient                     0.377478\n",
       "lead_time                         0.492640\n",
       "x0_240.0                          0.634209\n",
       "x0_9.0                            0.867829\n",
       "x9_Non Refund                     1.064386\n",
       "x5_PRT                            1.088050\n",
       "previous_cancellations            2.003751\n",
       "dtype: float64"
      ]
     },
     "execution_count": 669,
     "metadata": {},
     "output_type": "execute_result"
    }
   ],
   "source": [
    "pd.Series(gs_sq.best_estimator_.named_steps['regr'].coef_.T.reshape(71,), sel_features.index).sort_values()"
   ]
  },
  {
   "cell_type": "markdown",
   "metadata": {},
   "source": [
    "- Le feature che determinano l'aumento maggiore della probabilità di cancellazione sono:\n",
    "    - *previous_cancellations*: una cancellazione precedente\n",
    "    - *x5_PRT*: il portogallo come paese di provenienza\n",
    "    - *x9_Non Refund*: soprendentemente il fatto che sia stato effettuato un pagamento completo\n",
    "    - *x0_9.0*: l'agente numero 9"
   ]
  },
  {
   "cell_type": "markdown",
   "metadata": {},
   "source": [
    "- Le feature che aumentando fanno diminuire in maniera rilevante la probabilità di cancellazione sono:\n",
    "    - *required_car_parking_spaces*: il numero di posti auto richiesto\n",
    "    - *total_of_special_requests*: le richieste speciali\n",
    "    - *x9_No Deposit*: sorprendentemente il fatto che non sia stato fatto alcun pagamento"
   ]
  },
  {
   "cell_type": "markdown",
   "metadata": {},
   "source": [
    "- Inoltre possiamo notare che:\n",
    "    - Sicuramente il City Hotel avrà più cancellazioni rispetto al Resort Hotel, infatti il fatto che il soggiorno sia nel City Hotel contribuisce positivamente alla cancellazione mentre il fatto che sia nel Resort Hotel contribuisce negativamente.\n",
    "    - All'incrementare del numero di persone (che siano adulti o bambini) la probabilità di cancellazione aumenta.\n",
    "    - Il fatto che il soggiorno sia stato prenotato tramite un'agenzia o un tour operator diminuisce in modo abbastanza significativo la probabilità di cancellazione."
   ]
  }
 ],
 "metadata": {
  "kernelspec": {
   "display_name": "Python 3",
   "language": "python",
   "name": "python3"
  },
  "language_info": {
   "codemirror_mode": {
    "name": "ipython",
    "version": 3
   },
   "file_extension": ".py",
   "mimetype": "text/x-python",
   "name": "python",
   "nbconvert_exporter": "python",
   "pygments_lexer": "ipython3",
   "version": "3.7.4"
  }
 },
 "nbformat": 4,
 "nbformat_minor": 2
}
